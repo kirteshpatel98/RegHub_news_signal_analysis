{
 "cells": [
  {
   "cell_type": "code",
   "execution_count": 1,
   "metadata": {},
   "outputs": [],
   "source": [
    "# Import general libraries\n",
    "import json\n",
    "import pandas as pd\n",
    "\n",
    "# Import local functions\n",
    "from general_functions import awsOps"
   ]
  },
  {
   "cell_type": "code",
   "execution_count": 2,
   "metadata": {},
   "outputs": [],
   "source": [
    "# Raw RegHub categories with minor cleaning\n",
    "Legal_documents = [\"regulation\",\"regulations\",\"order\",\"Commission Implementing Decision\",\n",
    "                  \"act\",\"comission decision\",\"amendment\",\"directive\",\"rule\",\"rts\",\n",
    "                  \"technical specification\",\"Council Framework Decision\",\"richtlinie\",\n",
    "                  \"verordnung\",\"regulatory technical standards\",\"regulatory specification\",\n",
    "                  \"legislation\",\"gesetz\"]\n",
    "\n",
    "Warnings_Enforcements_Sanctions = [\"Fine\",\"accuse\",\"fined\",\"fines\",\"Milliardenbusse\",\n",
    "                    \"lawsuite\",\"Strafe\",\"Warnung\",\"Sanction\",\"Sanctions\",\"Sanktions\",\n",
    "                    \"schadenersatzanspruch\",\"schadenersatzansprüche\",\"schadenersatz verurteilt\",\n",
    "                    \"Sanktionen\",\"richterliche entscheidung\",\"juristische entscheidung\",\n",
    "                    \"gerichtliche\",\"is not authorised to\",\"administrative fine\",\n",
    "                    \"disciplinary fine\",\"unlawful use of\",\"has not granted\",\n",
    "                    \"launches investigation\",\"Sanktion\",\"Bafin investigates\",\n",
    "                    \"has not been granted authorisation\",\"without our authorisation\",\n",
    "                    \"keine Erlaubnis nach dem\",\"unerbetene Anrufe\",\"prohibits unauthorised\",\n",
    "                    \"unauthorised provision\",\"unterliegt nicht der Aufsicht\",\"withdrawal\",\n",
    "                    \"unlicenced entity\",\"fines\",\"breaches\",\"verstoß\",\"verstöße\",\n",
    "                    \"suspends\",\"verstösse\",\"Strafe\",\"unauthorised business\",\"ermittelt gegen\",\n",
    "                    \"Strafmaßnahme\",\"suspension of trading\",\"Warning\",\"untersagt die unerlaubt\",\n",
    "                    \"Sanction\",\"Enforcement\",\"Achtung!\",\"Vollstreckung\",\"Sanktionsmaßnahme\",\n",
    "                    \"Durchsetzung\",\"warnt Anleger\",\"Betroffene\",\"mögliche Nachteile\",\n",
    "                    \"verhängt Sanktion\",\"Kundmachung\",\"Öffentlichkeit informieren\"]\n",
    "\n",
    "Science_papers = [\"issues alert\",\"whitepaper\",\"working paper\",\"white paper\",\"wissenschaftlicher artikel\",\n",
    "                 \"wissenschaftliche publikation\",\"studie\",\"study\",\"wissenschaftlicher aufsatz\",\n",
    "                 \"essay\",\"studie:\",\"wissenschaftliche publikation\",\"science paper\",\"wissenschaftliche Abhandlung\",\n",
    "                 \"wissenschaftliche Arbeit\",\"publikation\"]\n",
    "\n",
    "Reports = [\"released a report\",\"report suggests\",\"report\",\"bericht\",\"survey\",\"umfrage\",\"poll\"]\n",
    "\n",
    "Official_statements = [\"letter\",\"statement\",\"speech\",\"opinion\",\"kapitalmarktinformation\",\"stellungnahme\",\n",
    "                    \"ansprache\",\"kundmachung\",\"Bekanntmachung\",\"offizielle Mitteilung\",\"Verkundbarung\",\n",
    "                    \"Verlautbarung\",\"eröffnungsrede\",\"bundestagsrede\"]\n",
    "\n",
    "Guidelines = [\"guideline\",\"rundschreiben\",\"circular\",\"faq\",\"q&a\",\"questions & answers\",\"questions and answers\",\n",
    "             \"leitfaden\",\"anleitung\",\"hinweis\",\"handlungsanweisung\",\"norm\",\"häufig gestellte fragen\",\n",
    "             \"Hilfestellung\",\"Anleitung\",\"leitlinie\"]\n",
    "\n",
    "Press_releases = [\"press release\",\"newsletter\",\"pressemitteilung\",\"pressemeldung\",\"pressebericht\",\n",
    "                \"press announcement\",\"press statement\",\"media release\",\"news release\",\"press communiqué\"]\n",
    "\n",
    "Personnel_changes = [\"Neuer Chef\",\"Neuer Head of\",\"übernimmt Leitung\",\"zieht in Vorstand\",\n",
    "                   \"zieht in Aufsichtsrat\",\"mit neuem Bereichs\",\"leitet Generationenwechsel\",\n",
    "                   \"stockt Personal\",\"ernennt C\",\"ins Führungsteam\",\"holt renommierte Manager\",\n",
    "                   \"besetzt Spitzenposition\",\"Neuer Chief\",\"hiring\",\"job candidate\",\"indeed.com\",\n",
    "                   \"new job\",\"job role\",\"trainee\",\"talent scout\",\"talent acquisition\",\"recruitment\",\n",
    "                   \"head hunter\",\"executive search\",\"new staff\",\"Professionals search\",\"job search\",\n",
    "                   \"talent identification\",\"job description\",\"interviewee\",\"job interview\",\n",
    "                   \"job application\",\"employment contract\",\"recruitment process\",\"external recruitment\",\n",
    "                   \"candidate attraction\",\"job profile\",\"candidate profile\",\"candidate skills\",\n",
    "                   \"required skills\",\"Recruiting\",\"Job\",\"Arbeitsplatzrolle\",\"Praktikantin\",\n",
    "                   \"Talentsucher\",\"Talentakquise\",\"Rekrutierung\",\"Headhunter\",\"executive search\",\n",
    "                   \"neue Mitarbeiter\",\"recruiter\",\"bewerbermesse\",\"jobmesse\",\"Stellenbeschreibung\",\n",
    "                   \"Dienstvertrag\",\"Arbeitsvertrag\",\"Rekrutierungsprozess\",\"externe Rekrutierung\",\n",
    "                   \"Kandidatengewinnung\",\"Stellenangebot\",\"Stellenanzeige\",\"Stellenausschreibung\",\n",
    "                   \"Job Vakanz\",\"Job Posting\",\"Job Postings\",\"(mwd)\",\"(mfd)\",\"(fmd)\",\"Praktikant:in\",\n",
    "                   \"Assitent:in\",\"(mwdivers)\"]\n",
    "\n",
    "Market_Analysis = [\"Aktien Europa\",\"behält die Bewertung\",\"Kurserholung\",\"Stock:\",\"'halten'\",\"'kaufen'\",\n",
    "                  \"Märkte am Morgen\",\"DAX\",\"Dow Jones\",\"chartanalyse\",\"gross profit margin\",\"ISIN\",\n",
    "                  \"stock rating\",\"'verkaufen'\",\"'hold'\",\"'buy'\",\"'sell'\",\"'moderate buy'\",\"price prediction\",\n",
    "                  \"price remains above\",\"price remains below\",\"best stocks\",\"raised its price\",\"Price Target\",\n",
    "                  \"Release of capital market information\",\"Analysts have given\",\"'Buy'\",\"'Moderate Buy'\",\n",
    "                  \"'Sell'\",\"'Hold'\",\"reiteratives its rating on\",\"increase in short interest\",\"buy rating\",\n",
    "                  \"sell rating\",\"hold rating\",\"aktienrückkauf\",\"kurssturz\",\"drückt Kurse\",\"Aktienkurs\",\n",
    "                  \"fall in the shares\",\"worth of shares\",\"Milliardenplatzierung\",\"roundupaktien\",\"estimatekurse\",\n",
    "                  \"realtime kurse\",\"aktie angepasst\",\"Aktie:\",\"aktie stabil\",\"aktie volatil\",\"der kurs der aktie\",\n",
    "                  \"aktie news\",\"shareholder\",\"aktie dämmt\",\"der aktionaer\",\"Aktie News\",\"Kursplus\",\"Kursminus\",\n",
    "                  \"Kurssprung\",\"der aktionär\",\"'buy'\",\"'sell'\",\"boerse.de\",\"aktiencheck\",\"Dividendensaison\",\n",
    "                  \"DAXAktien\",\"DAX-Aktien\",\"share price\",\"Aktie bü0t\",\"Aktie gewinnt\",\"stock loss\",\"stock win\",\n",
    "                  \"kursziel\",\"prognostizierten die Analysten\",\"kursgewinn\",\"aktien im sinkflug\",\"aktie im\",\n",
    "                  \"Preisrally\",\"Price Update\",\"Bearish Signal\",\"Bullish Signal\",\"bear market\",\"bull market\",\n",
    "                  \"bear signal\",\"bull signal\",\"Price Prediction:\",\"losses below $\",\"losses below \\u20AC\",\n",
    "                  \"recover to $\",\"recover to \\u20AC\",\"consolidates above $\",\"resistance at $\",\"reclaims $\",\n",
    "                  \"to break $\",\"drop to $\",\"drop to \\u20AC\",\"price correction\",\"Preiskorrektur\",\"bounces above $\",\n",
    "                  \"bounces above \\u20AC\",\"rejection at $\",\"rejection at \\u20AC\",\"pauses above $\",\"pauses below $\",\n",
    "                  \"revisit $\",\"slumps above $\"]"
   ]
  },
  {
   "cell_type": "code",
   "execution_count": 3,
   "metadata": {},
   "outputs": [],
   "source": [
    "# We worked with the RegHub categories in Python\n",
    "# and stored the results in seperate JSON files.\n",
    "# The codeblocks with the modified keywords\n",
    "# have been deleted for better readability.\n",
    "\n",
    "# Dictionary to store the category lists\n",
    "cat_data = {\n",
    "    \"Legal_documents\": Legal_documents,\n",
    "    \"Warnings_Enforcements_Sanctions\": Warnings_Enforcements_Sanctions,\n",
    "    \"Science_papers\": Science_papers,\n",
    "    \"Reports\": Reports,\n",
    "    \"Official_statements\": Official_statements,\n",
    "    \"Guidelines\": Guidelines,\n",
    "    \"Press_releases\": Press_releases,\n",
    "    \"Personnel_changes\": Personnel_changes,\n",
    "    \"Market_Analysis\": Market_Analysis\n",
    "}"
   ]
  },
  {
   "cell_type": "code",
   "execution_count": 4,
   "metadata": {},
   "outputs": [],
   "source": [
    "# Specify the file path where you want to save the JSON file\n",
    "json_file_path = \"../../categories_raw.json\"\n",
    "\n",
    "# Write the data to a JSON file\n",
    "with open(json_file_path, 'w') as json_file:\n",
    "    json.dump(cat_data, json_file)"
   ]
  },
  {
   "cell_type": "code",
   "execution_count": 5,
   "metadata": {},
   "outputs": [],
   "source": [
    "# Specify the file path where the JSON file is stored\n",
    "json_file_path = \"../../categories_v2.json\"\n",
    "\n",
    "# Read the data from the JSON file\n",
    "with open(json_file_path, 'r') as json_file:\n",
    "    category_dict = json.load(json_file)"
   ]
  },
  {
   "cell_type": "code",
   "execution_count": 6,
   "metadata": {},
   "outputs": [],
   "source": [
    "# Transform the data to bring it into csv-format\n",
    "df = pd.DataFrame()\n",
    "\n",
    "for key, value in category_dict.items():\n",
    "    df[key] = pd.Series(value)"
   ]
  },
  {
   "cell_type": "code",
   "execution_count": 7,
   "metadata": {},
   "outputs": [
    {
     "data": {
      "text/plain": [
       "'File uploaded'"
      ]
     },
     "execution_count": 7,
     "metadata": {},
     "output_type": "execute_result"
    }
   ],
   "source": [
    "# Save the data as df at desired location\n",
    "# Local\n",
    "df.to_csv(\"../../rule_labels_v1.csv\")\n",
    "\n",
    "# AWS\n",
    "# Access aws credentials from json file\n",
    "with open(\"../aws_credentials.json\", 'r') as file:\n",
    "    aws_creds_json = json.load(file)\n",
    "# Specify s3 bucket\n",
    "bucket = \"fs-reghub-news-analysis\"\n",
    "\n",
    "# Connect to aws and upload the file\n",
    "aws = awsOps(aws_creds_json)\n",
    "aws.upload_file(bucket=bucket, path=\"../../rule_labels_v1.csv\", name=\"rule_labels_v1.csv\")"
   ]
  }
 ],
 "metadata": {
  "kernelspec": {
   "display_name": "fs_base",
   "language": "python",
   "name": "python3"
  },
  "language_info": {
   "codemirror_mode": {
    "name": "ipython",
    "version": 3
   },
   "file_extension": ".py",
   "mimetype": "text/x-python",
   "name": "python",
   "nbconvert_exporter": "python",
   "pygments_lexer": "ipython3",
   "version": "3.11.5"
  }
 },
 "nbformat": 4,
 "nbformat_minor": 2
}
