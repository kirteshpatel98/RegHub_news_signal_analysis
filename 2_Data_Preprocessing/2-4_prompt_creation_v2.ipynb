{
 "cells": [
  {
   "cell_type": "code",
   "execution_count": 1,
   "metadata": {},
   "outputs": [],
   "source": [
    "# Import general libraries\n",
    "import json\n",
    "import pandas as pd\n",
    "\n",
    "# Import local functions\n",
    "from general_functions import awsOps"
   ]
  },
  {
   "cell_type": "markdown",
   "metadata": {},
   "source": [
    "In the first version the example and the real article were sometimes mixed. So this is without examples."
   ]
  },
  {
   "cell_type": "code",
   "execution_count": 2,
   "metadata": {},
   "outputs": [],
   "source": [
    "legal_prompt = (\"\"\"\n",
    "I need you to summarize any important legal information in a news article.\n",
    "Only write the relevant bullet points, no headline, no greeting etc.\n",
    "State any relevant developments from law and legislation.\n",
    "\n",
    "News Article:   \n",
    "{article}\n",
    "                \n",
    "Answer:\n",
    "\"\"\")"
   ]
  },
  {
   "cell_type": "code",
   "execution_count": 3,
   "metadata": {},
   "outputs": [],
   "source": [
    "sanctions_prompt = (\"\"\"\n",
    "I need you to summarize any information on sanctions in a news article.\n",
    "Only write the relevant bullet points, no headline, no greeting etc.\n",
    "State any relevant developments from trials and fines.\n",
    "\n",
    "News Article:   \n",
    "{article}\n",
    "                \n",
    "Answer:\n",
    "\"\"\")"
   ]
  },
  {
   "cell_type": "code",
   "execution_count": 4,
   "metadata": {},
   "outputs": [],
   "source": [
    "papers_prompt = (\"\"\"\n",
    "I need you to summarize any information on papers in a news article.\n",
    "Only write the relevant bullet points, no headline, no greeting etc.\n",
    "State any relevant developments scientific research.\n",
    "\n",
    "News Article:   \n",
    "{article}\n",
    "                \n",
    "Answer:\n",
    "\"\"\")"
   ]
  },
  {
   "cell_type": "code",
   "execution_count": 5,
   "metadata": {},
   "outputs": [],
   "source": [
    "reports_prompt = (\"\"\"\n",
    "I need you to summarize any information on reports in a news article.\n",
    "Only write the relevant bullet points, no headline, no greeting etc.\n",
    "State any relevant developments on reports or surveys mentioned.\n",
    "\n",
    "News Article:   \n",
    "{article}\n",
    "                \n",
    "Answer:\n",
    "\"\"\")"
   ]
  },
  {
   "cell_type": "code",
   "execution_count": 6,
   "metadata": {},
   "outputs": [],
   "source": [
    "statement_prompt = (\"\"\"\n",
    "I need you to summarize any important statements in a news article.\n",
    "Only write the relevant bullet points, no headline, no greeting etc.\n",
    "State any relevant developments and official statements.\n",
    "\n",
    "News Article:   \n",
    "{article}\n",
    "                \n",
    "Answer:\n",
    "\"\"\")"
   ]
  },
  {
   "cell_type": "code",
   "execution_count": 7,
   "metadata": {},
   "outputs": [],
   "source": [
    "guidelines_prompt = (\"\"\"\n",
    "I need you to summarize any information on guidelines in a news article.\n",
    "Only write the relevant bullet points, no headline, no greeting etc.\n",
    "State any relevant developments around released guidelines or instructions.\n",
    "\n",
    "News Article:   \n",
    "{article}\n",
    "                \n",
    "Answer:\n",
    "\"\"\")"
   ]
  },
  {
   "cell_type": "code",
   "execution_count": 8,
   "metadata": {},
   "outputs": [],
   "source": [
    "press_prompt = (\"\"\"\n",
    "I need you to summarize any information on press information in a news article.\n",
    "Only write the relevant bullet points, no headline, no greeting etc.\n",
    "State any relevant developments from the press release.\n",
    "\n",
    "News Article:   \n",
    "{article}\n",
    "                \n",
    "Answer:\n",
    "\"\"\")"
   ]
  },
  {
   "cell_type": "code",
   "execution_count": 9,
   "metadata": {},
   "outputs": [],
   "source": [
    "personnel_prompt = (\"\"\"\n",
    "I need you to summarize any important personnel changes in a news article.\n",
    "Only write bullet points.\n",
    "Only list events in which an employee was hired or fired.\n",
    "If possible, state the name of the employee or the number of employees affected and the corresponding positions in the company.\n",
    "\n",
    "News Article:   \n",
    "{article}\n",
    "                \n",
    "Answer:         \n",
    "\"\"\")"
   ]
  },
  {
   "cell_type": "code",
   "execution_count": 10,
   "metadata": {},
   "outputs": [],
   "source": [
    "market_prompt = (\"\"\"\n",
    "I need you to summarize any information on markets in a news article.\n",
    "Only write the relevant bullet points, no headline, no greeting etc.\n",
    "State any relevant developments around the financial markets.\n",
    "\n",
    "News Article:   \n",
    "{article}\n",
    "                \n",
    "Answer:\n",
    "\"\"\")"
   ]
  },
  {
   "cell_type": "code",
   "execution_count": 11,
   "metadata": {},
   "outputs": [],
   "source": [
    "multi_prompt = (\"\"\"\n",
    "I need you to summarize any important information in a news article.\n",
    "Only write the relevant bullet points, no headline, no greeting etc.\n",
    "State any relevant numbers and developments from the article.\n",
    "Group your answer into the two sections {cat1} and {cat2}.\n",
    "\n",
    "News Article:   \n",
    "{article}\n",
    "                \n",
    "Answer:\n",
    "\"\"\")"
   ]
  },
  {
   "cell_type": "code",
   "execution_count": 12,
   "metadata": {},
   "outputs": [],
   "source": [
    "prompt_dict = {\"legal\": [legal_prompt],\n",
    "               \"sanctions\": [sanctions_prompt],\n",
    "               \"papers\": [papers_prompt],\n",
    "               \"reports\": [reports_prompt],\n",
    "               \"statements\": [statement_prompt],\n",
    "               \"guidelines\": [guidelines_prompt],\n",
    "               \"press\": [press_prompt],\n",
    "               \"personnel\": [personnel_prompt],\n",
    "               \"market\": [market_prompt],\n",
    "               \"multi\": [multi_prompt]}\n",
    "\n",
    "prompt_df = pd.DataFrame(prompt_dict)\n",
    "prompt_df.to_csv(\"../../data/llama_prompts_v2.csv\")"
   ]
  },
  {
   "cell_type": "code",
   "execution_count": 13,
   "metadata": {},
   "outputs": [
    {
     "data": {
      "text/plain": [
       "'File uploaded'"
      ]
     },
     "execution_count": 13,
     "metadata": {},
     "output_type": "execute_result"
    }
   ],
   "source": [
    "# Upload the data to aws\n",
    "# Access aws credentials from json file\n",
    "with open(\"../aws_credentials.json\", 'r') as file:\n",
    "    aws_creds_json = json.load(file)\n",
    "# Specify s3 bucket\n",
    "bucket = \"fs-reghub-news-analysis\"\n",
    "\n",
    "# Connect to aws and upload the files\n",
    "aws = awsOps(aws_creds_json)\n",
    "aws.upload_file(\"../../data/llama_prompts_v2.csv\", bucket, \"llama_prompts_v2.csv\")"
   ]
  }
 ],
 "metadata": {
  "kernelspec": {
   "display_name": "reghub",
   "language": "python",
   "name": "python3"
  },
  "language_info": {
   "codemirror_mode": {
    "name": "ipython",
    "version": 3
   },
   "file_extension": ".py",
   "mimetype": "text/x-python",
   "name": "python",
   "nbconvert_exporter": "python",
   "pygments_lexer": "ipython3",
   "version": "3.11.5"
  }
 },
 "nbformat": 4,
 "nbformat_minor": 2
}
