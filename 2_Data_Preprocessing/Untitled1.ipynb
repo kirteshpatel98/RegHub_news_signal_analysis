{
 "cells": [
  {
   "cell_type": "code",
   "execution_count": 88,
   "id": "b75129dd",
   "metadata": {},
   "outputs": [],
   "source": [
    "from bs4 import BeautifulSoup\n",
    "import requests"
   ]
  },
  {
   "cell_type": "code",
   "execution_count": 103,
   "id": "3cd680b6",
   "metadata": {},
   "outputs": [
    {
     "data": {
      "text/plain": [
       "<table _ngcontent-sc178=\"\" class=\"table widget-table\"><tbody _ngcontent-sc178=\"\"><!-- --><!-- --></tbody></table>"
      ]
     },
     "execution_count": 103,
     "metadata": {},
     "output_type": "execute_result"
    }
   ],
   "source": [
    "# Replace 'your_url' with the URL you want to scrape\n",
    "url = 'https://www.boerse-frankfurt.de/equity/ad-hoc-news/DE000CBK1001'\n",
    "\n",
    "# Send a GET request to the URL\n",
    "response = requests.get(url)\n",
    "\n",
    "# Parse the HTML content of the page\n",
    "soup = BeautifulSoup(response.text, 'html.parser')\n",
    "\n",
    "table = soup.find('table', class_='table widget-table')\n",
    "\n",
    "table"
   ]
  },
  {
   "cell_type": "code",
   "execution_count": null,
   "id": "d1d3beb5",
   "metadata": {},
   "outputs": [],
   "source": []
  }
 ],
 "metadata": {
  "kernelspec": {
   "display_name": "Python 3 (ipykernel)",
   "language": "python",
   "name": "python3"
  },
  "language_info": {
   "codemirror_mode": {
    "name": "ipython",
    "version": 3
   },
   "file_extension": ".py",
   "mimetype": "text/x-python",
   "name": "python",
   "nbconvert_exporter": "python",
   "pygments_lexer": "ipython3",
   "version": "3.10.9"
  }
 },
 "nbformat": 4,
 "nbformat_minor": 5
}
