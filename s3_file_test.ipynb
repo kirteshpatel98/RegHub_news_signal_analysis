{
 "cells": [
  {
   "cell_type": "code",
   "execution_count": 3,
   "metadata": {},
   "outputs": [],
   "source": [
    "import json\n",
    "import boto3"
   ]
  },
  {
   "cell_type": "code",
   "execution_count": 4,
   "metadata": {},
   "outputs": [],
   "source": [
    "aws_creds_json = \"aws_credentials.json\"\n",
    "\n",
    "# Step 4: Read data from the JSON file\n",
    "with open(aws_creds_json, 'r') as file:\n",
    "    aws_creds = json.load(file)"
   ]
  },
  {
   "cell_type": "code",
   "execution_count": 5,
   "metadata": {},
   "outputs": [],
   "source": [
    "s3 = boto3.client(\n",
    "    's3',\n",
    "    aws_access_key_id=aws_creds[\"aws_access_key_id\"],\n",
    "    aws_secret_access_key=aws_creds[\"aws_secret_access_key\"]\n",
    ")\n",
    "\n",
    "bucket_name = 'fs-reghub-news-analysis'\n",
    "object_key = 'data_rule_labels_updated_rough_cleaning.csv'\n",
    "output = 'data_rule_labels_updated_rough_cleaning.csv'\n",
    "\n",
    "s3.download_file(bucket_name, object_key, output)"
   ]
  }
 ],
 "metadata": {
  "kernelspec": {
   "display_name": "reghub",
   "language": "python",
   "name": "python3"
  },
  "language_info": {
   "codemirror_mode": {
    "name": "ipython",
    "version": 3
   },
   "file_extension": ".py",
   "mimetype": "text/x-python",
   "name": "python",
   "nbconvert_exporter": "python",
   "pygments_lexer": "ipython3",
   "version": "3.11.5"
  }
 },
 "nbformat": 4,
 "nbformat_minor": 2
}
