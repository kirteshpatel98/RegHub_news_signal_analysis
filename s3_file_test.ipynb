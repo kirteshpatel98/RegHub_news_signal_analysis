{
 "cells": [
  {
   "cell_type": "code",
   "execution_count": 1,
   "metadata": {},
   "outputs": [],
   "source": [
    "import json\n",
    "import boto3\n",
    "import pandas as pd\n",
    "from io import BytesIO"
   ]
  },
  {
   "cell_type": "code",
   "execution_count": 2,
   "metadata": {},
   "outputs": [],
   "source": [
    "# Access aws credentials from json file\n",
    "aws_creds_json = \"aws_credentials.json\"\n",
    "with open(\"aws_credentials.json\", 'r') as file:\n",
    "    aws_creds_json = json.load(file)\n",
    "# Store necessary authentication in dictionary\n",
    "aws_creds = {\n",
    "    'service_name': 's3',\n",
    "    'aws_access_key_id': aws_creds_json[\"aws_access_key_id\"],\n",
    "    'aws_secret_access_key': aws_creds_json[\"aws_secret_access_key\"],\n",
    "    'region_name': 'eu-central-1'\n",
    "}\n",
    "# Specify the s3 bucket name we work with\n",
    "bucket_name = 'fs-reghub-news-analysis'"
   ]
  },
  {
   "cell_type": "code",
   "execution_count": 3,
   "metadata": {},
   "outputs": [],
   "source": [
    "# Connect to aws using two methods\n",
    "s3c = boto3.client(**aws_creds)\n",
    "s3r = boto3.resource(**aws_creds)"
   ]
  },
  {
   "cell_type": "code",
   "execution_count": 4,
   "metadata": {},
   "outputs": [
    {
     "name": "stdout",
     "output_type": "stream",
     "text": [
      "categories.csv\n",
      "data_rule_labels_updated_rough_cleaning.csv\n"
     ]
    }
   ],
   "source": [
    "# Show the files in the s3 bucket\n",
    "bucket = s3r.Bucket(bucket_name)\n",
    "for obj in bucket.objects.all():\n",
    "    print(obj.key)"
   ]
  },
  {
   "cell_type": "code",
   "execution_count": 5,
   "metadata": {},
   "outputs": [],
   "source": [
    "# Example object key\n",
    "object_key = 'data_rule_labels_updated_rough_cleaning.csv'\n",
    "# Example output key (Only needed for download(Will be the new file name))\n",
    "#output = 'data_rule_labels_updated_rough_cleaning.csv'"
   ]
  },
  {
   "cell_type": "code",
   "execution_count": 6,
   "metadata": {},
   "outputs": [],
   "source": [
    "# Dowload the file if needed\n",
    "#s3c.download_file(bucket_name, object_key, output)"
   ]
  },
  {
   "cell_type": "code",
   "execution_count": 7,
   "metadata": {},
   "outputs": [
    {
     "data": {
      "text/html": [
       "<div>\n",
       "<style scoped>\n",
       "    .dataframe tbody tr th:only-of-type {\n",
       "        vertical-align: middle;\n",
       "    }\n",
       "\n",
       "    .dataframe tbody tr th {\n",
       "        vertical-align: top;\n",
       "    }\n",
       "\n",
       "    .dataframe thead th {\n",
       "        text-align: right;\n",
       "    }\n",
       "</style>\n",
       "<table border=\"1\" class=\"dataframe\">\n",
       "  <thead>\n",
       "    <tr style=\"text-align: right;\">\n",
       "      <th></th>\n",
       "      <th>Unnamed: 0</th>\n",
       "      <th>_id</th>\n",
       "      <th>_index</th>\n",
       "      <th>_score</th>\n",
       "      <th>_type</th>\n",
       "      <th>concepts</th>\n",
       "      <th>found_dates</th>\n",
       "      <th>id</th>\n",
       "      <th>internal_links</th>\n",
       "      <th>keywords</th>\n",
       "      <th>...</th>\n",
       "      <th>news_title</th>\n",
       "      <th>news_topic</th>\n",
       "      <th>news_type</th>\n",
       "      <th>references</th>\n",
       "      <th>sentiment_label</th>\n",
       "      <th>sentiment_score</th>\n",
       "      <th>source_country</th>\n",
       "      <th>source_name</th>\n",
       "      <th>source_type</th>\n",
       "      <th>rule_labels_comb</th>\n",
       "    </tr>\n",
       "  </thead>\n",
       "  <tbody>\n",
       "    <tr>\n",
       "      <th>0</th>\n",
       "      <td>0</td>\n",
       "      <td>fin1023Preslofreshbuy917302</td>\n",
       "      <td>2021_reghub_new</td>\n",
       "      <td>NaN</td>\n",
       "      <td>_doc</td>\n",
       "      <td>NaN</td>\n",
       "      <td>[]</td>\n",
       "      <td>fin1023Preslofreshbuy917302</td>\n",
       "      <td>[]</td>\n",
       "      <td>NaN</td>\n",
       "      <td>...</td>\n",
       "      <td>HelloFresh Buy von Joh. Berenberg Gossler &amp; Co...</td>\n",
       "      <td>[{\"description\":\"Berenberg Bank\",\"relevance\":4...</td>\n",
       "      <td>Press releases</td>\n",
       "      <td>[]</td>\n",
       "      <td>NaN</td>\n",
       "      <td>0.0</td>\n",
       "      <td>Global</td>\n",
       "      <td>finanzen.at</td>\n",
       "      <td>Information Provider</td>\n",
       "      <td>['market']</td>\n",
       "    </tr>\n",
       "    <tr>\n",
       "      <th>1</th>\n",
       "      <td>1</td>\n",
       "      <td>finichtenStoceaaufbuy322htm</td>\n",
       "      <td>2021_reghub_new</td>\n",
       "      <td>NaN</td>\n",
       "      <td>_doc</td>\n",
       "      <td>NaN</td>\n",
       "      <td>[]</td>\n",
       "      <td>finichtenStoceaaufbuy322htm</td>\n",
       "      <td>[]</td>\n",
       "      <td>NaN</td>\n",
       "      <td>...</td>\n",
       "      <td>BERENBERG stuft Nordea auf 'Buy'  Finanznachri...</td>\n",
       "      <td>[{\"description\":\"Berenberg Bank\",\"relevance\":6...</td>\n",
       "      <td>Stock Analysis</td>\n",
       "      <td>[]</td>\n",
       "      <td>NaN</td>\n",
       "      <td>0.0</td>\n",
       "      <td>Global</td>\n",
       "      <td>finanznachrichten.de</td>\n",
       "      <td>Information Provider</td>\n",
       "      <td>[]</td>\n",
       "    </tr>\n",
       "  </tbody>\n",
       "</table>\n",
       "<p>2 rows × 30 columns</p>\n",
       "</div>"
      ],
      "text/plain": [
       "   Unnamed: 0                          _id           _index _score _type  \\\n",
       "0           0  fin1023Preslofreshbuy917302  2021_reghub_new    NaN  _doc   \n",
       "1           1  finichtenStoceaaufbuy322htm  2021_reghub_new    NaN  _doc   \n",
       "\n",
       "  concepts found_dates                           id internal_links keywords  \\\n",
       "0      NaN          []  fin1023Preslofreshbuy917302             []      NaN   \n",
       "1      NaN          []  finichtenStoceaaufbuy322htm             []      NaN   \n",
       "\n",
       "   ...                                         news_title  \\\n",
       "0  ...  HelloFresh Buy von Joh. Berenberg Gossler & Co...   \n",
       "1  ...  BERENBERG stuft Nordea auf 'Buy'  Finanznachri...   \n",
       "\n",
       "                                          news_topic       news_type  \\\n",
       "0  [{\"description\":\"Berenberg Bank\",\"relevance\":4...  Press releases   \n",
       "1  [{\"description\":\"Berenberg Bank\",\"relevance\":6...  Stock Analysis   \n",
       "\n",
       "  references sentiment_label sentiment_score source_country  \\\n",
       "0         []             NaN             0.0         Global   \n",
       "1         []             NaN             0.0         Global   \n",
       "\n",
       "            source_name           source_type rule_labels_comb  \n",
       "0           finanzen.at  Information Provider       ['market']  \n",
       "1  finanznachrichten.de  Information Provider               []  \n",
       "\n",
       "[2 rows x 30 columns]"
      ]
     },
     "execution_count": 7,
     "metadata": {},
     "output_type": "execute_result"
    }
   ],
   "source": [
    "# Directly store the file in a pandas df\n",
    "# Access the object on aws s3\n",
    "response = s3c.get_object(Bucket=bucket_name, Key=object_key)\n",
    "# Read the file content\n",
    "file_content = response['Body'].read()\n",
    "# Convert to csv-like\n",
    "csv_object = BytesIO(file_content)\n",
    "# Store as a pandas df for further use\n",
    "df = pd.read_csv(csv_object)\n",
    "\n",
    "df.head(2)"
   ]
  },
  {
   "cell_type": "code",
   "execution_count": 8,
   "metadata": {},
   "outputs": [],
   "source": [
    "# Upload a file to aws\n",
    "# Specify path\n",
    "example_path = \"../categories.csv\"\n",
    "# Desired Name (If already on aws s3, the file will be overwritten)\n",
    "new_object_key = \"categories.csv\"\n",
    "# Upload the file\n",
    "s3c.upload_file(example_path, bucket_name, new_object_key)"
   ]
  }
 ],
 "metadata": {
  "kernelspec": {
   "display_name": "reghub",
   "language": "python",
   "name": "python3"
  },
  "language_info": {
   "codemirror_mode": {
    "name": "ipython",
    "version": 3
   },
   "file_extension": ".py",
   "mimetype": "text/x-python",
   "name": "python",
   "nbconvert_exporter": "python",
   "pygments_lexer": "ipython3",
   "version": "3.11.5"
  }
 },
 "nbformat": 4,
 "nbformat_minor": 2
}
