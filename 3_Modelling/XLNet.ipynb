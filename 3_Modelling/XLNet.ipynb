{
 "cells": [
  {
   "cell_type": "code",
   "execution_count": 1,
   "id": "4c5e2885",
   "metadata": {
    "id": "4c5e2885"
   },
   "outputs": [
    {
     "name": "stderr",
     "output_type": "stream",
     "text": [
      "C:\\Users\\hp\\miniconda3\\envs\\tf_gpu\\lib\\site-packages\\scipy\\__init__.py:132: UserWarning: A NumPy version >=1.21.6 and <1.28.0 is required for this version of SciPy (detected version 1.20.0)\n",
      "  warnings.warn(f\"A NumPy version >={np_minversion} and <{np_maxversion}\"\n"
     ]
    }
   ],
   "source": [
    "# ! pip install transformers\n",
    "import torch\n",
    "import numpy as np\n",
    "import matplotlib.pyplot as plt\n",
    "\n",
    "import torchsummary as summary\n",
    "from tqdm import tqdm\n",
    "\n",
    "from torch import nn\n",
    "import torch.nn.functional as F\n",
    "from transformers import AdamW, XLNetTokenizer, XLNetModel, XLNetLMHeadModel, XLNetConfig\n",
    "\n",
    "from sklearn.model_selection import train_test_split\n",
    "import torch\n",
    "\n",
    "import pandas as pd\n",
    "import numpy as np\n",
    "import os\n",
    "import base64\n",
    "import gc\n",
    "import glob, os\n",
    "\n",
    "import warnings\n",
    "warnings.filterwarnings(\"ignore\")\n",
    "\n",
    "from torch.optim import Adam"
   ]
  },
  {
   "cell_type": "code",
   "execution_count": 2,
   "id": "4351b623",
   "metadata": {},
   "outputs": [],
   "source": [
    "def create_onedrive_directdownload(onedrive_link):\n",
    "    data_bytes64 = base64.b64encode(bytes(onedrive_link, 'utf-8'))\n",
    "    data_bytes64_String = data_bytes64.decode('utf-8').replace('/','_').replace('+','-').rstrip(\"=\")\n",
    "    resultUrl = f\"https://api.onedrive.com/v1.0/shares/u!{data_bytes64_String}/root/content\"\n",
    "    return resultUrl"
   ]
  },
  {
   "cell_type": "code",
   "execution_count": 3,
   "id": "1b1f6bd4",
   "metadata": {},
   "outputs": [
    {
     "data": {
      "text/html": [
       "<div>\n",
       "<style scoped>\n",
       "    .dataframe tbody tr th:only-of-type {\n",
       "        vertical-align: middle;\n",
       "    }\n",
       "\n",
       "    .dataframe tbody tr th {\n",
       "        vertical-align: top;\n",
       "    }\n",
       "\n",
       "    .dataframe thead th {\n",
       "        text-align: right;\n",
       "    }\n",
       "</style>\n",
       "<table border=\"1\" class=\"dataframe\">\n",
       "  <thead>\n",
       "    <tr style=\"text-align: right;\">\n",
       "      <th></th>\n",
       "      <th>news_content</th>\n",
       "      <th>rule_labels_comb</th>\n",
       "    </tr>\n",
       "  </thead>\n",
       "  <tbody>\n",
       "    <tr>\n",
       "      <th>0</th>\n",
       "      <td>Berenberg Bank analysts have provided a buy ra...</td>\n",
       "      <td>['guidelines', 'market']</td>\n",
       "    </tr>\n",
       "    <tr>\n",
       "      <th>1</th>\n",
       "      <td>The article states that Berenberg, a German in...</td>\n",
       "      <td>['guidelines']</td>\n",
       "    </tr>\n",
       "    <tr>\n",
       "      <th>2</th>\n",
       "      <td>In their analysis on October 30, 2023, experts...</td>\n",
       "      <td>['legal', 'guidelines']</td>\n",
       "    </tr>\n",
       "    <tr>\n",
       "      <th>3</th>\n",
       "      <td>Berenberg Bank has issued a \\\"buy\\\" recommenda...</td>\n",
       "      <td>['legal', 'guidelines']</td>\n",
       "    </tr>\n",
       "    <tr>\n",
       "      <th>4</th>\n",
       "      <td>The private bank Berenberg has upgraded its ra...</td>\n",
       "      <td>['legal', 'statements', 'guidelines']</td>\n",
       "    </tr>\n",
       "    <tr>\n",
       "      <th>...</th>\n",
       "      <td>...</td>\n",
       "      <td>...</td>\n",
       "    </tr>\n",
       "    <tr>\n",
       "      <th>10320</th>\n",
       "      <td>INTERVIEW Interview with Les Échos Interview w...</td>\n",
       "      <td>['legal', 'sanctions', 'statements', 'guidelin...</td>\n",
       "    </tr>\n",
       "    <tr>\n",
       "      <th>10321</th>\n",
       "      <td>UBS's latest Investor Watch report reveals tha...</td>\n",
       "      <td>['legal', 'reports', 'guidelines']</td>\n",
       "    </tr>\n",
       "    <tr>\n",
       "      <th>10322</th>\n",
       "      <td>SNB erwartet für 2021 Jahresgewinn von rund 26...</td>\n",
       "      <td>['legal', 'reports', 'guidelines']</td>\n",
       "    </tr>\n",
       "    <tr>\n",
       "      <th>10323</th>\n",
       "      <td>0:00 News A cryptocurrency exchange in Hong Ko...</td>\n",
       "      <td>['legal', 'sanctions', 'reports', 'statements'...</td>\n",
       "    </tr>\n",
       "    <tr>\n",
       "      <th>10324</th>\n",
       "      <td>Bloomberg has reported that a number of indivi...</td>\n",
       "      <td>['legal', 'sanctions', 'reports', 'statements'...</td>\n",
       "    </tr>\n",
       "  </tbody>\n",
       "</table>\n",
       "<p>10325 rows × 2 columns</p>\n",
       "</div>"
      ],
      "text/plain": [
       "                                            news_content  \\\n",
       "0      Berenberg Bank analysts have provided a buy ra...   \n",
       "1      The article states that Berenberg, a German in...   \n",
       "2      In their analysis on October 30, 2023, experts...   \n",
       "3      Berenberg Bank has issued a \\\"buy\\\" recommenda...   \n",
       "4      The private bank Berenberg has upgraded its ra...   \n",
       "...                                                  ...   \n",
       "10320  INTERVIEW Interview with Les Échos Interview w...   \n",
       "10321  UBS's latest Investor Watch report reveals tha...   \n",
       "10322  SNB erwartet für 2021 Jahresgewinn von rund 26...   \n",
       "10323  0:00 News A cryptocurrency exchange in Hong Ko...   \n",
       "10324  Bloomberg has reported that a number of indivi...   \n",
       "\n",
       "                                        rule_labels_comb  \n",
       "0                               ['guidelines', 'market']  \n",
       "1                                         ['guidelines']  \n",
       "2                                ['legal', 'guidelines']  \n",
       "3                                ['legal', 'guidelines']  \n",
       "4                  ['legal', 'statements', 'guidelines']  \n",
       "...                                                  ...  \n",
       "10320  ['legal', 'sanctions', 'statements', 'guidelin...  \n",
       "10321                 ['legal', 'reports', 'guidelines']  \n",
       "10322                 ['legal', 'reports', 'guidelines']  \n",
       "10323  ['legal', 'sanctions', 'reports', 'statements'...  \n",
       "10324  ['legal', 'sanctions', 'reports', 'statements'...  \n",
       "\n",
       "[10325 rows x 2 columns]"
      ]
     },
     "execution_count": 3,
     "metadata": {},
     "output_type": "execute_result"
    }
   ],
   "source": [
    "onedrive_link='https://1drv.ms/u/s!AoiE7xOoBAsngsgx2HKIw1RxUnATTg?e=XsxZGD'\n",
    "onedrive_direct_link=create_onedrive_directdownload(onedrive_link)\n",
    "onedrive_direct_link\n",
    "df=pd.read_csv(onedrive_direct_link)\n",
    "df.drop('Unnamed: 0',axis=1,inplace=True)\n",
    "df=df[['news_content','rule_labels_comb']]\n",
    "df=df[~df['rule_labels_comb'].isna()]\n",
    "df=df[(df['rule_labels_comb'].apply(len)!=2)]\n",
    "df = df.reset_index()\n",
    "del df['index']\n",
    "df"
   ]
  },
  {
   "cell_type": "code",
   "execution_count": null,
   "id": "8e29c6f6",
   "metadata": {},
   "outputs": [],
   "source": []
  },
  {
   "cell_type": "code",
   "execution_count": 4,
   "id": "b5dd1747",
   "metadata": {},
   "outputs": [
    {
     "data": {
      "text/plain": [
       "0.0"
      ]
     },
     "execution_count": 4,
     "metadata": {},
     "output_type": "execute_result"
    }
   ],
   "source": [
    "from ast import literal_eval\n",
    "df['rule_labels_comb'] = df['rule_labels_comb'].apply(literal_eval)\n",
    "df['target']='[0.0,0.0,0.0,0.0,0.0,0.0,0.0,0.0,0.0]'\n",
    "df['target'] = df['target'].apply(literal_eval)\n",
    "\n",
    "df['target'].iloc[0][0]"
   ]
  },
  {
   "cell_type": "code",
   "execution_count": 5,
   "id": "7dd33e6d",
   "metadata": {},
   "outputs": [
    {
     "data": {
      "text/plain": [
       "0                 [5, 8]\n",
       "1                    [5]\n",
       "2                 [0, 5]\n",
       "3                 [0, 5]\n",
       "4              [0, 4, 5]\n",
       "              ...       \n",
       "10320    [0, 1, 4, 5, 8]\n",
       "10321          [0, 3, 5]\n",
       "10322          [0, 3, 5]\n",
       "10323    [0, 1, 3, 4, 5]\n",
       "10324    [0, 1, 3, 4, 5]\n",
       "Name: rule_labels_comb, Length: 10325, dtype: object"
      ]
     },
     "execution_count": 5,
     "metadata": {},
     "output_type": "execute_result"
    }
   ],
   "source": [
    "for index, value in df['rule_labels_comb'].iteritems():\n",
    "    class_dic={'legal':0,'sanctions':1,'papers':2,'reports':3,'statements':4,'guidelines':5,'press':6,'personnel':7,'market':8}\n",
    "    val=[class_dic.get(i, i) for i in value]\n",
    "    df['rule_labels_comb'].iloc[index]=val\n",
    "    y=0\n",
    "    for x in df['rule_labels_comb'].iloc[index]:\n",
    "        df['target'].iloc[index][x]=1.0\n",
    "        y=y+1\n",
    "df['rule_labels_comb']"
   ]
  },
  {
   "cell_type": "code",
   "execution_count": 6,
   "id": "b02483e1",
   "metadata": {},
   "outputs": [
    {
     "data": {
      "text/plain": [
       "0        [0.0, 0.0, 0.0, 0.0, 0.0, 1.0, 0.0, 0.0, 1.0]\n",
       "1        [0.0, 0.0, 0.0, 0.0, 0.0, 1.0, 0.0, 0.0, 0.0]\n",
       "2        [1.0, 0.0, 0.0, 0.0, 0.0, 1.0, 0.0, 0.0, 0.0]\n",
       "3        [1.0, 0.0, 0.0, 0.0, 0.0, 1.0, 0.0, 0.0, 0.0]\n",
       "4        [1.0, 0.0, 0.0, 0.0, 1.0, 1.0, 0.0, 0.0, 0.0]\n",
       "                             ...                      \n",
       "10320    [1.0, 1.0, 0.0, 0.0, 1.0, 1.0, 0.0, 0.0, 1.0]\n",
       "10321    [1.0, 0.0, 0.0, 1.0, 0.0, 1.0, 0.0, 0.0, 0.0]\n",
       "10322    [1.0, 0.0, 0.0, 1.0, 0.0, 1.0, 0.0, 0.0, 0.0]\n",
       "10323    [1.0, 1.0, 0.0, 1.0, 1.0, 1.0, 0.0, 0.0, 0.0]\n",
       "10324    [1.0, 1.0, 0.0, 1.0, 1.0, 1.0, 0.0, 0.0, 0.0]\n",
       "Name: target, Length: 10325, dtype: object"
      ]
     },
     "execution_count": 6,
     "metadata": {},
     "output_type": "execute_result"
    }
   ],
   "source": [
    "df['target']"
   ]
  },
  {
   "cell_type": "code",
   "execution_count": null,
   "id": "5fec05ad",
   "metadata": {
    "id": "5fec05ad"
   },
   "outputs": [],
   "source": []
  },
  {
   "cell_type": "code",
   "execution_count": 7,
   "id": "fff40ee7",
   "metadata": {
    "colab": {
     "base_uri": "https://localhost:8080/"
    },
    "id": "fff40ee7",
    "outputId": "11c0fdd4-a78f-4d43-ed76-1abbd19e0f37"
   },
   "outputs": [
    {
     "data": {
      "text/plain": [
       "\"\\nfrom google.colab import drive\\ndrive.mount('/content/drive')\\n\\nimport os\\nos.chdir('/content/drive/My Drive/')\\n\\n\\ndf=pd.read_csv('BERT_data.csv')\\ndf=df[~(df['content']=='nan')]\\ndf['content']=df['content'].astype(str)\\ndf['subject']=df['subject'].astype(str)\\n\""
      ]
     },
     "execution_count": 7,
     "metadata": {},
     "output_type": "execute_result"
    }
   ],
   "source": [
    "# import data from gdrive\n",
    "'''\n",
    "from google.colab import drive\n",
    "drive.mount('/content/drive')\n",
    "\n",
    "import os\n",
    "os.chdir('/content/drive/My Drive/')\n",
    "\n",
    "\n",
    "df=pd.read_csv('BERT_data.csv')\n",
    "df=df[~(df['content']=='nan')]\n",
    "df['content']=df['content'].astype(str)\n",
    "df['subject']=df['subject'].astype(str)\n",
    "'''"
   ]
  },
  {
   "cell_type": "code",
   "execution_count": 8,
   "id": "862a17fe",
   "metadata": {
    "colab": {
     "base_uri": "https://localhost:8080/",
     "height": 53
    },
    "id": "862a17fe",
    "outputId": "6aa6d00d-cdc8-49ac-b34e-38be032d4249"
   },
   "outputs": [
    {
     "data": {
      "text/html": [
       "<div>\n",
       "<style scoped>\n",
       "    .dataframe tbody tr th:only-of-type {\n",
       "        vertical-align: middle;\n",
       "    }\n",
       "\n",
       "    .dataframe tbody tr th {\n",
       "        vertical-align: top;\n",
       "    }\n",
       "\n",
       "    .dataframe thead th {\n",
       "        text-align: right;\n",
       "    }\n",
       "</style>\n",
       "<table border=\"1\" class=\"dataframe\">\n",
       "  <thead>\n",
       "    <tr style=\"text-align: right;\">\n",
       "      <th></th>\n",
       "      <th>news_content</th>\n",
       "      <th>rule_labels_comb</th>\n",
       "      <th>target</th>\n",
       "    </tr>\n",
       "  </thead>\n",
       "  <tbody>\n",
       "    <tr>\n",
       "      <th>0</th>\n",
       "      <td>Berenberg Bank analysts have provided a buy ra...</td>\n",
       "      <td>[5, 8]</td>\n",
       "      <td>[0.0, 0.0, 0.0, 0.0, 0.0, 1.0, 0.0, 0.0, 1.0]</td>\n",
       "    </tr>\n",
       "    <tr>\n",
       "      <th>1</th>\n",
       "      <td>The article states that Berenberg, a German in...</td>\n",
       "      <td>[5]</td>\n",
       "      <td>[0.0, 0.0, 0.0, 0.0, 0.0, 1.0, 0.0, 0.0, 0.0]</td>\n",
       "    </tr>\n",
       "    <tr>\n",
       "      <th>2</th>\n",
       "      <td>In their analysis on October 30, 2023, experts...</td>\n",
       "      <td>[0, 5]</td>\n",
       "      <td>[1.0, 0.0, 0.0, 0.0, 0.0, 1.0, 0.0, 0.0, 0.0]</td>\n",
       "    </tr>\n",
       "    <tr>\n",
       "      <th>3</th>\n",
       "      <td>Berenberg Bank has issued a \\\"buy\\\" recommenda...</td>\n",
       "      <td>[0, 5]</td>\n",
       "      <td>[1.0, 0.0, 0.0, 0.0, 0.0, 1.0, 0.0, 0.0, 0.0]</td>\n",
       "    </tr>\n",
       "    <tr>\n",
       "      <th>4</th>\n",
       "      <td>The private bank Berenberg has upgraded its ra...</td>\n",
       "      <td>[0, 4, 5]</td>\n",
       "      <td>[1.0, 0.0, 0.0, 0.0, 1.0, 1.0, 0.0, 0.0, 0.0]</td>\n",
       "    </tr>\n",
       "    <tr>\n",
       "      <th>...</th>\n",
       "      <td>...</td>\n",
       "      <td>...</td>\n",
       "      <td>...</td>\n",
       "    </tr>\n",
       "    <tr>\n",
       "      <th>10320</th>\n",
       "      <td>INTERVIEW Interview with Les Échos Interview w...</td>\n",
       "      <td>[0, 1, 4, 5, 8]</td>\n",
       "      <td>[1.0, 1.0, 0.0, 0.0, 1.0, 1.0, 0.0, 0.0, 1.0]</td>\n",
       "    </tr>\n",
       "    <tr>\n",
       "      <th>10321</th>\n",
       "      <td>UBS's latest Investor Watch report reveals tha...</td>\n",
       "      <td>[0, 3, 5]</td>\n",
       "      <td>[1.0, 0.0, 0.0, 1.0, 0.0, 1.0, 0.0, 0.0, 0.0]</td>\n",
       "    </tr>\n",
       "    <tr>\n",
       "      <th>10322</th>\n",
       "      <td>SNB erwartet für 2021 Jahresgewinn von rund 26...</td>\n",
       "      <td>[0, 3, 5]</td>\n",
       "      <td>[1.0, 0.0, 0.0, 1.0, 0.0, 1.0, 0.0, 0.0, 0.0]</td>\n",
       "    </tr>\n",
       "    <tr>\n",
       "      <th>10323</th>\n",
       "      <td>0:00 News A cryptocurrency exchange in Hong Ko...</td>\n",
       "      <td>[0, 1, 3, 4, 5]</td>\n",
       "      <td>[1.0, 1.0, 0.0, 1.0, 1.0, 1.0, 0.0, 0.0, 0.0]</td>\n",
       "    </tr>\n",
       "    <tr>\n",
       "      <th>10324</th>\n",
       "      <td>Bloomberg has reported that a number of indivi...</td>\n",
       "      <td>[0, 1, 3, 4, 5]</td>\n",
       "      <td>[1.0, 1.0, 0.0, 1.0, 1.0, 1.0, 0.0, 0.0, 0.0]</td>\n",
       "    </tr>\n",
       "  </tbody>\n",
       "</table>\n",
       "<p>10325 rows × 3 columns</p>\n",
       "</div>"
      ],
      "text/plain": [
       "                                            news_content rule_labels_comb  \\\n",
       "0      Berenberg Bank analysts have provided a buy ra...           [5, 8]   \n",
       "1      The article states that Berenberg, a German in...              [5]   \n",
       "2      In their analysis on October 30, 2023, experts...           [0, 5]   \n",
       "3      Berenberg Bank has issued a \\\"buy\\\" recommenda...           [0, 5]   \n",
       "4      The private bank Berenberg has upgraded its ra...        [0, 4, 5]   \n",
       "...                                                  ...              ...   \n",
       "10320  INTERVIEW Interview with Les Échos Interview w...  [0, 1, 4, 5, 8]   \n",
       "10321  UBS's latest Investor Watch report reveals tha...        [0, 3, 5]   \n",
       "10322  SNB erwartet für 2021 Jahresgewinn von rund 26...        [0, 3, 5]   \n",
       "10323  0:00 News A cryptocurrency exchange in Hong Ko...  [0, 1, 3, 4, 5]   \n",
       "10324  Bloomberg has reported that a number of indivi...  [0, 1, 3, 4, 5]   \n",
       "\n",
       "                                              target  \n",
       "0      [0.0, 0.0, 0.0, 0.0, 0.0, 1.0, 0.0, 0.0, 1.0]  \n",
       "1      [0.0, 0.0, 0.0, 0.0, 0.0, 1.0, 0.0, 0.0, 0.0]  \n",
       "2      [1.0, 0.0, 0.0, 0.0, 0.0, 1.0, 0.0, 0.0, 0.0]  \n",
       "3      [1.0, 0.0, 0.0, 0.0, 0.0, 1.0, 0.0, 0.0, 0.0]  \n",
       "4      [1.0, 0.0, 0.0, 0.0, 1.0, 1.0, 0.0, 0.0, 0.0]  \n",
       "...                                              ...  \n",
       "10320  [1.0, 1.0, 0.0, 0.0, 1.0, 1.0, 0.0, 0.0, 1.0]  \n",
       "10321  [1.0, 0.0, 0.0, 1.0, 0.0, 1.0, 0.0, 0.0, 0.0]  \n",
       "10322  [1.0, 0.0, 0.0, 1.0, 0.0, 1.0, 0.0, 0.0, 0.0]  \n",
       "10323  [1.0, 1.0, 0.0, 1.0, 1.0, 1.0, 0.0, 0.0, 0.0]  \n",
       "10324  [1.0, 1.0, 0.0, 1.0, 1.0, 1.0, 0.0, 0.0, 0.0]  \n",
       "\n",
       "[10325 rows x 3 columns]"
      ]
     },
     "execution_count": 8,
     "metadata": {},
     "output_type": "execute_result"
    }
   ],
   "source": [
    "# change range of labels, minimum should be zero\n",
    "df['rule_labels_comb']=df['rule_labels_comb'].astype(str)\n",
    "df"
   ]
  },
  {
   "cell_type": "code",
   "execution_count": 9,
   "id": "b2181d08",
   "metadata": {},
   "outputs": [
    {
     "data": {
      "text/plain": [
       "\"\\ndf_3=df[(df['result']==3) & (df['content'].str.len()<350)]\\ndf=df[~(df['result']==3)]\\ndf=pd.concat([df,df_3])\\ndf\\n\""
      ]
     },
     "execution_count": 9,
     "metadata": {},
     "output_type": "execute_result"
    }
   ],
   "source": [
    "# additional filtering to balance classes\n",
    "'''\n",
    "df_3=df[(df['result']==3) & (df['content'].str.len()<350)]\n",
    "df=df[~(df['result']==3)]\n",
    "df=pd.concat([df,df_3])\n",
    "df\n",
    "'''"
   ]
  },
  {
   "cell_type": "code",
   "execution_count": 10,
   "id": "97659d46",
   "metadata": {
    "id": "97659d46"
   },
   "outputs": [],
   "source": [
    "# import BERT tokenizer\n",
    "tokenizer = XLNetTokenizer.from_pretrained('xlnet-base-cased')\n",
    "class Dataset(torch.utils.data.Dataset):\n",
    "    def __init__(self,df):\n",
    "        self.labels=df['target']\n",
    "        self.text=[tokenizer(text,padding='max_length',max_length=512,truncation=True,return_tensors=\"pt\") for text in df['news_content']]\n",
    "\n",
    "    def classes(self):\n",
    "        return self.labels\n",
    "\n",
    "    def __len__(self):\n",
    "        return len(self.labels)\n",
    "\n",
    "    def get_batch_labels(self, idx):\n",
    "        # Fetch a batch of labels\n",
    "        return np.array(self.labels[idx])\n",
    "\n",
    "    def get_batch_texts(self, idx):\n",
    "        # Fetch a batch of inputs\n",
    "        return self.text[idx]\n",
    "\n",
    "    def __getitem__(self, idx):\n",
    "\n",
    "        batch_texts = self.get_batch_texts(idx)\n",
    "        batch_y = self.get_batch_labels(idx)\n",
    "\n",
    "        return batch_texts, batch_y"
   ]
  },
  {
   "cell_type": "code",
   "execution_count": 11,
   "id": "8a1a835a",
   "metadata": {},
   "outputs": [],
   "source": [
    "# train test split\n",
    "X_train, X_test= train_test_split(df[['news_content','target']], test_size=0.25)"
   ]
  },
  {
   "cell_type": "code",
   "execution_count": 12,
   "id": "2f08669a",
   "metadata": {},
   "outputs": [],
   "source": [
    "df_train=X_train\n",
    "df_val=X_test\n",
    "df_test=0"
   ]
  },
  {
   "cell_type": "code",
   "execution_count": 13,
   "id": "yDzCUBywaqK_",
   "metadata": {
    "colab": {
     "base_uri": "https://localhost:8080/"
    },
    "id": "yDzCUBywaqK_",
    "outputId": "f0c830cc-e9c2-4e35-8c9f-e7b0e6f9f5aa"
   },
   "outputs": [
    {
     "data": {
      "text/html": [
       "<div>\n",
       "<style scoped>\n",
       "    .dataframe tbody tr th:only-of-type {\n",
       "        vertical-align: middle;\n",
       "    }\n",
       "\n",
       "    .dataframe tbody tr th {\n",
       "        vertical-align: top;\n",
       "    }\n",
       "\n",
       "    .dataframe thead th {\n",
       "        text-align: right;\n",
       "    }\n",
       "</style>\n",
       "<table border=\"1\" class=\"dataframe\">\n",
       "  <thead>\n",
       "    <tr style=\"text-align: right;\">\n",
       "      <th></th>\n",
       "      <th>news_content</th>\n",
       "      <th>target</th>\n",
       "    </tr>\n",
       "  </thead>\n",
       "  <tbody>\n",
       "    <tr>\n",
       "      <th>6475</th>\n",
       "      <td>Can Japan become a global leader in green stee...</td>\n",
       "      <td>[1.0, 0.0, 0.0, 0.0, 0.0, 1.0, 0.0, 0.0, 0.0]</td>\n",
       "    </tr>\n",
       "    <tr>\n",
       "      <th>6419</th>\n",
       "      <td>Nun hat Thomas Schaufler also der Privatkunden...</td>\n",
       "      <td>[0.0, 0.0, 0.0, 0.0, 1.0, 0.0, 0.0, 0.0, 0.0]</td>\n",
       "    </tr>\n",
       "    <tr>\n",
       "      <th>2898</th>\n",
       "      <td>The article from finanz-szene.de discusses the...</td>\n",
       "      <td>[1.0, 0.0, 0.0, 0.0, 1.0, 1.0, 0.0, 0.0, 0.0]</td>\n",
       "    </tr>\n",
       "    <tr>\n",
       "      <th>4104</th>\n",
       "      <td>Berenberg Bank set a target price of 1530 GBX ...</td>\n",
       "      <td>[0.0, 0.0, 0.0, 0.0, 0.0, 0.0, 0.0, 0.0, 1.0]</td>\n",
       "    </tr>\n",
       "    <tr>\n",
       "      <th>7604</th>\n",
       "      <td>Heute findet die proutatwork Konferenz in unse...</td>\n",
       "      <td>[0.0, 0.0, 0.0, 0.0, 1.0, 0.0, 0.0, 0.0, 0.0]</td>\n",
       "    </tr>\n",
       "    <tr>\n",
       "      <th>...</th>\n",
       "      <td>...</td>\n",
       "      <td>...</td>\n",
       "    </tr>\n",
       "    <tr>\n",
       "      <th>4677</th>\n",
       "      <td>Unser Robot zum DAX: Starker Donnerstag Commer...</td>\n",
       "      <td>[0.0, 0.0, 0.0, 0.0, 0.0, 0.0, 0.0, 0.0, 1.0]</td>\n",
       "    </tr>\n",
       "    <tr>\n",
       "      <th>3400</th>\n",
       "      <td>The Swiss National Bank (SNB) announced that i...</td>\n",
       "      <td>[0.0, 0.0, 0.0, 0.0, 1.0, 1.0, 0.0, 0.0, 0.0]</td>\n",
       "    </tr>\n",
       "    <tr>\n",
       "      <th>5623</th>\n",
       "      <td>Auch wegen drohender RatingHerabstufungen hätt...</td>\n",
       "      <td>[0.0, 0.0, 0.0, 0.0, 1.0, 1.0, 0.0, 0.0, 0.0]</td>\n",
       "    </tr>\n",
       "    <tr>\n",
       "      <th>886</th>\n",
       "      <td>&lt;br&gt;1. Gebrüder Bethmann bank was established ...</td>\n",
       "      <td>[1.0, 0.0, 0.0, 0.0, 1.0, 1.0, 0.0, 0.0, 0.0]</td>\n",
       "    </tr>\n",
       "    <tr>\n",
       "      <th>3836</th>\n",
       "      <td>The article reports on original research condu...</td>\n",
       "      <td>[1.0, 0.0, 0.0, 1.0, 1.0, 1.0, 0.0, 0.0, 0.0]</td>\n",
       "    </tr>\n",
       "  </tbody>\n",
       "</table>\n",
       "<p>7743 rows × 2 columns</p>\n",
       "</div>"
      ],
      "text/plain": [
       "                                           news_content  \\\n",
       "6475  Can Japan become a global leader in green stee...   \n",
       "6419  Nun hat Thomas Schaufler also der Privatkunden...   \n",
       "2898  The article from finanz-szene.de discusses the...   \n",
       "4104  Berenberg Bank set a target price of 1530 GBX ...   \n",
       "7604  Heute findet die proutatwork Konferenz in unse...   \n",
       "...                                                 ...   \n",
       "4677  Unser Robot zum DAX: Starker Donnerstag Commer...   \n",
       "3400  The Swiss National Bank (SNB) announced that i...   \n",
       "5623  Auch wegen drohender RatingHerabstufungen hätt...   \n",
       "886   <br>1. Gebrüder Bethmann bank was established ...   \n",
       "3836  The article reports on original research condu...   \n",
       "\n",
       "                                             target  \n",
       "6475  [1.0, 0.0, 0.0, 0.0, 0.0, 1.0, 0.0, 0.0, 0.0]  \n",
       "6419  [0.0, 0.0, 0.0, 0.0, 1.0, 0.0, 0.0, 0.0, 0.0]  \n",
       "2898  [1.0, 0.0, 0.0, 0.0, 1.0, 1.0, 0.0, 0.0, 0.0]  \n",
       "4104  [0.0, 0.0, 0.0, 0.0, 0.0, 0.0, 0.0, 0.0, 1.0]  \n",
       "7604  [0.0, 0.0, 0.0, 0.0, 1.0, 0.0, 0.0, 0.0, 0.0]  \n",
       "...                                             ...  \n",
       "4677  [0.0, 0.0, 0.0, 0.0, 0.0, 0.0, 0.0, 0.0, 1.0]  \n",
       "3400  [0.0, 0.0, 0.0, 0.0, 1.0, 1.0, 0.0, 0.0, 0.0]  \n",
       "5623  [0.0, 0.0, 0.0, 0.0, 1.0, 1.0, 0.0, 0.0, 0.0]  \n",
       "886   [1.0, 0.0, 0.0, 0.0, 1.0, 1.0, 0.0, 0.0, 0.0]  \n",
       "3836  [1.0, 0.0, 0.0, 1.0, 1.0, 1.0, 0.0, 0.0, 0.0]  \n",
       "\n",
       "[7743 rows x 2 columns]"
      ]
     },
     "execution_count": 13,
     "metadata": {},
     "output_type": "execute_result"
    }
   ],
   "source": [
    "df_train"
   ]
  },
  {
   "cell_type": "code",
   "execution_count": 14,
   "id": "0cedf1b1",
   "metadata": {
    "id": "0cedf1b1"
   },
   "outputs": [],
   "source": [
    "# XLNet classifier architecture, with 7 output classes\n",
    "class XLNetClassifier(nn.Module):\n",
    "    def __init__(self, dropout=0.3):\n",
    "        super(XLNetClassifier, self).__init__()\n",
    "        self.xlnet = XLNetModel.from_pretrained('xlnet-base-cased', return_dict=True)\n",
    "        self.dropout = nn.Dropout(dropout)\n",
    "        self.linear = nn.Linear(self.xlnet.config.hidden_size, 9)\n",
    "        torch.nn.init.kaiming_uniform_(self.linear.weight, nonlinearity='relu')\n",
    "        self.relu = nn.ReLU()\n",
    "\n",
    "    def forward(self, input_ids, attention_mask):\n",
    "\n",
    "        outputs = self.xlnet(input_ids=input_ids, attention_mask=attention_mask)\n",
    "        pooled_output = outputs.last_hidden_state[:, 0, :]  # Get the CLS token representation\n",
    "        dropout_output = self.dropout(pooled_output)\n",
    "        linear_output = self.linear(dropout_output)\n",
    "        final_layer = self.relu(linear_output)\n",
    "        return final_layer\n"
   ]
  },
  {
   "cell_type": "code",
   "execution_count": 15,
   "id": "50e427bd",
   "metadata": {
    "colab": {
     "base_uri": "https://localhost:8080/"
    },
    "id": "50e427bd",
    "outputId": "00e951a8-0497-4f1f-d04e-7d941be41a07"
   },
   "outputs": [
    {
     "data": {
      "text/plain": [
       "device(type='cuda')"
      ]
     },
     "execution_count": 15,
     "metadata": {},
     "output_type": "execute_result"
    }
   ],
   "source": [
    "# change runtype to GPU\n",
    "use_cuda = torch.cuda.is_available()\n",
    "device = torch.device(\"cuda\" if use_cuda else \"cpu\")\n",
    "device"
   ]
  },
  {
   "cell_type": "code",
   "execution_count": 16,
   "id": "383e6dad",
   "metadata": {},
   "outputs": [],
   "source": [
    "# hyperparameters\n",
    "EPOCHS = 22\n",
    "model = XLNetClassifier()\n",
    "LR = 0.0001"
   ]
  },
  {
   "cell_type": "code",
   "execution_count": 17,
   "id": "39d24417",
   "metadata": {},
   "outputs": [
    {
     "data": {
      "text/html": [
       "<div>\n",
       "<style scoped>\n",
       "    .dataframe tbody tr th:only-of-type {\n",
       "        vertical-align: middle;\n",
       "    }\n",
       "\n",
       "    .dataframe tbody tr th {\n",
       "        vertical-align: top;\n",
       "    }\n",
       "\n",
       "    .dataframe thead th {\n",
       "        text-align: right;\n",
       "    }\n",
       "</style>\n",
       "<table border=\"1\" class=\"dataframe\">\n",
       "  <thead>\n",
       "    <tr style=\"text-align: right;\">\n",
       "      <th></th>\n",
       "      <th>news_content</th>\n",
       "      <th>target</th>\n",
       "    </tr>\n",
       "  </thead>\n",
       "  <tbody>\n",
       "    <tr>\n",
       "      <th>0</th>\n",
       "      <td>Gerade dadurch unterstützt er beim Abwägen von...</td>\n",
       "      <td>[0.0, 0.0, 0.0, 0.0, 0.0, 1.0, 0.0, 0.0, 0.0]</td>\n",
       "    </tr>\n",
       "    <tr>\n",
       "      <th>1</th>\n",
       "      <td>Economists at Berenberg Bank predict consumers...</td>\n",
       "      <td>[1.0, 0.0, 0.0, 0.0, 1.0, 0.0, 0.0, 0.0, 0.0]</td>\n",
       "    </tr>\n",
       "    <tr>\n",
       "      <th>2</th>\n",
       "      <td>The article discusses Congress Asset Managemen...</td>\n",
       "      <td>[0.0, 0.0, 0.0, 0.0, 1.0, 1.0, 0.0, 0.0, 0.0]</td>\n",
       "    </tr>\n",
       "    <tr>\n",
       "      <th>3</th>\n",
       "      <td>UBS berichtet heute über die Ergebnisse des vi...</td>\n",
       "      <td>[0.0, 0.0, 0.0, 1.0, 0.0, 1.0, 1.0, 0.0, 0.0]</td>\n",
       "    </tr>\n",
       "    <tr>\n",
       "      <th>4</th>\n",
       "      <td>Seit seiner Gründung ist UBS PremiumPartnerin ...</td>\n",
       "      <td>[0.0, 0.0, 0.0, 0.0, 1.0, 0.0, 0.0, 0.0, 0.0]</td>\n",
       "    </tr>\n",
       "    <tr>\n",
       "      <th>...</th>\n",
       "      <td>...</td>\n",
       "      <td>...</td>\n",
       "    </tr>\n",
       "    <tr>\n",
       "      <th>2577</th>\n",
       "      <td>Berenberg Gossler &amp; Co. KG (Berenberg Bank). 1...</td>\n",
       "      <td>[0.0, 0.0, 0.0, 0.0, 0.0, 1.0, 0.0, 0.0, 0.0]</td>\n",
       "    </tr>\n",
       "    <tr>\n",
       "      <th>2578</th>\n",
       "      <td>UBS's wealth management division reported almo...</td>\n",
       "      <td>[0.0, 0.0, 0.0, 1.0, 0.0, 0.0, 0.0, 0.0, 0.0]</td>\n",
       "    </tr>\n",
       "    <tr>\n",
       "      <th>2579</th>\n",
       "      <td>RT boersefrankfurt: Gen Souterrain. Erhebung d...</td>\n",
       "      <td>[0.0, 0.0, 0.0, 0.0, 0.0, 0.0, 0.0, 0.0, 1.0]</td>\n",
       "    </tr>\n",
       "    <tr>\n",
       "      <th>2580</th>\n",
       "      <td>&lt;br&gt;1. The financial technology company, Squar...</td>\n",
       "      <td>[1.0, 0.0, 0.0, 0.0, 0.0, 1.0, 0.0, 0.0, 0.0]</td>\n",
       "    </tr>\n",
       "    <tr>\n",
       "      <th>2581</th>\n",
       "      <td>Zweimal haben Vertreter des Großaktionärs Cerb...</td>\n",
       "      <td>[0.0, 0.0, 0.0, 0.0, 0.0, 1.0, 0.0, 0.0, 1.0]</td>\n",
       "    </tr>\n",
       "  </tbody>\n",
       "</table>\n",
       "<p>2582 rows × 2 columns</p>\n",
       "</div>"
      ],
      "text/plain": [
       "                                           news_content  \\\n",
       "0     Gerade dadurch unterstützt er beim Abwägen von...   \n",
       "1     Economists at Berenberg Bank predict consumers...   \n",
       "2     The article discusses Congress Asset Managemen...   \n",
       "3     UBS berichtet heute über die Ergebnisse des vi...   \n",
       "4     Seit seiner Gründung ist UBS PremiumPartnerin ...   \n",
       "...                                                 ...   \n",
       "2577  Berenberg Gossler & Co. KG (Berenberg Bank). 1...   \n",
       "2578  UBS's wealth management division reported almo...   \n",
       "2579  RT boersefrankfurt: Gen Souterrain. Erhebung d...   \n",
       "2580  <br>1. The financial technology company, Squar...   \n",
       "2581  Zweimal haben Vertreter des Großaktionärs Cerb...   \n",
       "\n",
       "                                             target  \n",
       "0     [0.0, 0.0, 0.0, 0.0, 0.0, 1.0, 0.0, 0.0, 0.0]  \n",
       "1     [1.0, 0.0, 0.0, 0.0, 1.0, 0.0, 0.0, 0.0, 0.0]  \n",
       "2     [0.0, 0.0, 0.0, 0.0, 1.0, 1.0, 0.0, 0.0, 0.0]  \n",
       "3     [0.0, 0.0, 0.0, 1.0, 0.0, 1.0, 1.0, 0.0, 0.0]  \n",
       "4     [0.0, 0.0, 0.0, 0.0, 1.0, 0.0, 0.0, 0.0, 0.0]  \n",
       "...                                             ...  \n",
       "2577  [0.0, 0.0, 0.0, 0.0, 0.0, 1.0, 0.0, 0.0, 0.0]  \n",
       "2578  [0.0, 0.0, 0.0, 1.0, 0.0, 0.0, 0.0, 0.0, 0.0]  \n",
       "2579  [0.0, 0.0, 0.0, 0.0, 0.0, 0.0, 0.0, 0.0, 1.0]  \n",
       "2580  [1.0, 0.0, 0.0, 0.0, 0.0, 1.0, 0.0, 0.0, 0.0]  \n",
       "2581  [0.0, 0.0, 0.0, 0.0, 0.0, 1.0, 0.0, 0.0, 1.0]  \n",
       "\n",
       "[2582 rows x 2 columns]"
      ]
     },
     "execution_count": 17,
     "metadata": {},
     "output_type": "execute_result"
    }
   ],
   "source": [
    "df_train=df_train.reset_index()\n",
    "df_train.drop('index',axis=1,inplace=True)\n",
    "\n",
    "df_val=df_val.reset_index()\n",
    "df_val.drop('index',axis=1,inplace=True)\n",
    "df_val"
   ]
  },
  {
   "cell_type": "code",
   "execution_count": 18,
   "id": "bd93f8c0",
   "metadata": {},
   "outputs": [
    {
     "name": "stdout",
     "output_type": "stream",
     "text": [
      "xlnet.mask_emb\n",
      "xlnet.word_embedding.weight\n",
      "xlnet.layer.0.rel_attn.q\n",
      "xlnet.layer.0.rel_attn.k\n",
      "xlnet.layer.0.rel_attn.v\n",
      "xlnet.layer.0.rel_attn.o\n",
      "xlnet.layer.0.rel_attn.r\n",
      "xlnet.layer.0.rel_attn.r_r_bias\n",
      "xlnet.layer.0.rel_attn.r_s_bias\n",
      "xlnet.layer.0.rel_attn.r_w_bias\n",
      "xlnet.layer.0.rel_attn.seg_embed\n",
      "xlnet.layer.0.rel_attn.layer_norm.weight\n",
      "xlnet.layer.0.rel_attn.layer_norm.bias\n",
      "xlnet.layer.0.ff.layer_norm.weight\n",
      "xlnet.layer.0.ff.layer_norm.bias\n",
      "xlnet.layer.0.ff.layer_1.weight\n",
      "xlnet.layer.0.ff.layer_1.bias\n",
      "xlnet.layer.0.ff.layer_2.weight\n",
      "xlnet.layer.0.ff.layer_2.bias\n",
      "xlnet.layer.1.rel_attn.q\n",
      "xlnet.layer.1.rel_attn.k\n",
      "xlnet.layer.1.rel_attn.v\n",
      "xlnet.layer.1.rel_attn.o\n",
      "xlnet.layer.1.rel_attn.r\n",
      "xlnet.layer.1.rel_attn.r_r_bias\n",
      "xlnet.layer.1.rel_attn.r_s_bias\n",
      "xlnet.layer.1.rel_attn.r_w_bias\n",
      "xlnet.layer.1.rel_attn.seg_embed\n",
      "xlnet.layer.1.rel_attn.layer_norm.weight\n",
      "xlnet.layer.1.rel_attn.layer_norm.bias\n",
      "xlnet.layer.1.ff.layer_norm.weight\n",
      "xlnet.layer.1.ff.layer_norm.bias\n",
      "xlnet.layer.1.ff.layer_1.weight\n",
      "xlnet.layer.1.ff.layer_1.bias\n",
      "xlnet.layer.1.ff.layer_2.weight\n",
      "xlnet.layer.1.ff.layer_2.bias\n",
      "xlnet.layer.2.rel_attn.q\n",
      "xlnet.layer.2.rel_attn.k\n",
      "xlnet.layer.2.rel_attn.v\n",
      "xlnet.layer.2.rel_attn.o\n",
      "xlnet.layer.2.rel_attn.r\n",
      "xlnet.layer.2.rel_attn.r_r_bias\n",
      "xlnet.layer.2.rel_attn.r_s_bias\n",
      "xlnet.layer.2.rel_attn.r_w_bias\n",
      "xlnet.layer.2.rel_attn.seg_embed\n",
      "xlnet.layer.2.rel_attn.layer_norm.weight\n",
      "xlnet.layer.2.rel_attn.layer_norm.bias\n",
      "xlnet.layer.2.ff.layer_norm.weight\n",
      "xlnet.layer.2.ff.layer_norm.bias\n",
      "xlnet.layer.2.ff.layer_1.weight\n",
      "xlnet.layer.2.ff.layer_1.bias\n",
      "xlnet.layer.2.ff.layer_2.weight\n",
      "xlnet.layer.2.ff.layer_2.bias\n",
      "xlnet.layer.3.rel_attn.q\n",
      "xlnet.layer.3.rel_attn.k\n",
      "xlnet.layer.3.rel_attn.v\n",
      "xlnet.layer.3.rel_attn.o\n",
      "xlnet.layer.3.rel_attn.r\n",
      "xlnet.layer.3.rel_attn.r_r_bias\n",
      "xlnet.layer.3.rel_attn.r_s_bias\n",
      "xlnet.layer.3.rel_attn.r_w_bias\n",
      "xlnet.layer.3.rel_attn.seg_embed\n",
      "xlnet.layer.3.rel_attn.layer_norm.weight\n",
      "xlnet.layer.3.rel_attn.layer_norm.bias\n",
      "xlnet.layer.3.ff.layer_norm.weight\n",
      "xlnet.layer.3.ff.layer_norm.bias\n",
      "xlnet.layer.3.ff.layer_1.weight\n",
      "xlnet.layer.3.ff.layer_1.bias\n",
      "xlnet.layer.3.ff.layer_2.weight\n",
      "xlnet.layer.3.ff.layer_2.bias\n",
      "xlnet.layer.4.rel_attn.q\n",
      "xlnet.layer.4.rel_attn.k\n",
      "xlnet.layer.4.rel_attn.v\n",
      "xlnet.layer.4.rel_attn.o\n",
      "xlnet.layer.4.rel_attn.r\n",
      "xlnet.layer.4.rel_attn.r_r_bias\n",
      "xlnet.layer.4.rel_attn.r_s_bias\n",
      "xlnet.layer.4.rel_attn.r_w_bias\n",
      "xlnet.layer.4.rel_attn.seg_embed\n",
      "xlnet.layer.4.rel_attn.layer_norm.weight\n",
      "xlnet.layer.4.rel_attn.layer_norm.bias\n",
      "xlnet.layer.4.ff.layer_norm.weight\n",
      "xlnet.layer.4.ff.layer_norm.bias\n",
      "xlnet.layer.4.ff.layer_1.weight\n",
      "xlnet.layer.4.ff.layer_1.bias\n",
      "xlnet.layer.4.ff.layer_2.weight\n",
      "xlnet.layer.4.ff.layer_2.bias\n",
      "xlnet.layer.5.rel_attn.q\n",
      "xlnet.layer.5.rel_attn.k\n",
      "xlnet.layer.5.rel_attn.v\n",
      "xlnet.layer.5.rel_attn.o\n",
      "xlnet.layer.5.rel_attn.r\n",
      "xlnet.layer.5.rel_attn.r_r_bias\n",
      "xlnet.layer.5.rel_attn.r_s_bias\n",
      "xlnet.layer.5.rel_attn.r_w_bias\n",
      "xlnet.layer.5.rel_attn.seg_embed\n",
      "xlnet.layer.5.rel_attn.layer_norm.weight\n",
      "xlnet.layer.5.rel_attn.layer_norm.bias\n",
      "xlnet.layer.5.ff.layer_norm.weight\n",
      "xlnet.layer.5.ff.layer_norm.bias\n",
      "xlnet.layer.5.ff.layer_1.weight\n",
      "xlnet.layer.5.ff.layer_1.bias\n",
      "xlnet.layer.5.ff.layer_2.weight\n",
      "xlnet.layer.5.ff.layer_2.bias\n",
      "xlnet.layer.6.rel_attn.q\n",
      "xlnet.layer.6.rel_attn.k\n",
      "xlnet.layer.6.rel_attn.v\n",
      "xlnet.layer.6.rel_attn.o\n",
      "xlnet.layer.6.rel_attn.r\n",
      "xlnet.layer.6.rel_attn.r_r_bias\n",
      "xlnet.layer.6.rel_attn.r_s_bias\n",
      "xlnet.layer.6.rel_attn.r_w_bias\n",
      "xlnet.layer.6.rel_attn.seg_embed\n",
      "xlnet.layer.6.rel_attn.layer_norm.weight\n",
      "xlnet.layer.6.rel_attn.layer_norm.bias\n",
      "xlnet.layer.6.ff.layer_norm.weight\n",
      "xlnet.layer.6.ff.layer_norm.bias\n",
      "xlnet.layer.6.ff.layer_1.weight\n",
      "xlnet.layer.6.ff.layer_1.bias\n",
      "xlnet.layer.6.ff.layer_2.weight\n",
      "xlnet.layer.6.ff.layer_2.bias\n",
      "xlnet.layer.7.rel_attn.q\n",
      "xlnet.layer.7.rel_attn.k\n",
      "xlnet.layer.7.rel_attn.v\n",
      "xlnet.layer.7.rel_attn.o\n",
      "xlnet.layer.7.rel_attn.r\n",
      "xlnet.layer.7.rel_attn.r_r_bias\n",
      "xlnet.layer.7.rel_attn.r_s_bias\n",
      "xlnet.layer.7.rel_attn.r_w_bias\n",
      "xlnet.layer.7.rel_attn.seg_embed\n",
      "xlnet.layer.7.rel_attn.layer_norm.weight\n",
      "xlnet.layer.7.rel_attn.layer_norm.bias\n",
      "xlnet.layer.7.ff.layer_norm.weight\n",
      "xlnet.layer.7.ff.layer_norm.bias\n",
      "xlnet.layer.7.ff.layer_1.weight\n",
      "xlnet.layer.7.ff.layer_1.bias\n",
      "xlnet.layer.7.ff.layer_2.weight\n",
      "xlnet.layer.7.ff.layer_2.bias\n",
      "xlnet.layer.8.rel_attn.q\n",
      "xlnet.layer.8.rel_attn.k\n",
      "xlnet.layer.8.rel_attn.v\n",
      "xlnet.layer.8.rel_attn.o\n",
      "xlnet.layer.8.rel_attn.r\n",
      "xlnet.layer.8.rel_attn.r_r_bias\n",
      "xlnet.layer.8.rel_attn.r_s_bias\n",
      "xlnet.layer.8.rel_attn.r_w_bias\n",
      "xlnet.layer.8.rel_attn.seg_embed\n",
      "xlnet.layer.8.rel_attn.layer_norm.weight\n",
      "xlnet.layer.8.rel_attn.layer_norm.bias\n",
      "xlnet.layer.8.ff.layer_norm.weight\n",
      "xlnet.layer.8.ff.layer_norm.bias\n",
      "xlnet.layer.8.ff.layer_1.weight\n",
      "xlnet.layer.8.ff.layer_1.bias\n",
      "xlnet.layer.8.ff.layer_2.weight\n",
      "xlnet.layer.8.ff.layer_2.bias\n",
      "xlnet.layer.9.rel_attn.q\n",
      "xlnet.layer.9.rel_attn.k\n",
      "xlnet.layer.9.rel_attn.v\n",
      "xlnet.layer.9.rel_attn.o\n",
      "xlnet.layer.9.rel_attn.r\n",
      "xlnet.layer.9.rel_attn.r_r_bias\n",
      "xlnet.layer.9.rel_attn.r_s_bias\n",
      "xlnet.layer.9.rel_attn.r_w_bias\n",
      "xlnet.layer.9.rel_attn.seg_embed\n",
      "xlnet.layer.9.rel_attn.layer_norm.weight\n",
      "xlnet.layer.9.rel_attn.layer_norm.bias\n",
      "xlnet.layer.9.ff.layer_norm.weight\n",
      "xlnet.layer.9.ff.layer_norm.bias\n",
      "xlnet.layer.9.ff.layer_1.weight\n",
      "xlnet.layer.9.ff.layer_1.bias\n",
      "xlnet.layer.9.ff.layer_2.weight\n",
      "xlnet.layer.9.ff.layer_2.bias\n",
      "xlnet.layer.10.rel_attn.q\n",
      "xlnet.layer.10.rel_attn.k\n",
      "xlnet.layer.10.rel_attn.v\n",
      "xlnet.layer.10.rel_attn.o\n",
      "xlnet.layer.10.rel_attn.r\n",
      "xlnet.layer.10.rel_attn.r_r_bias\n",
      "xlnet.layer.10.rel_attn.r_s_bias\n",
      "xlnet.layer.10.rel_attn.r_w_bias\n",
      "xlnet.layer.10.rel_attn.seg_embed\n",
      "xlnet.layer.10.rel_attn.layer_norm.weight\n",
      "xlnet.layer.10.rel_attn.layer_norm.bias\n",
      "xlnet.layer.10.ff.layer_norm.weight\n",
      "xlnet.layer.10.ff.layer_norm.bias\n",
      "xlnet.layer.10.ff.layer_1.weight\n",
      "xlnet.layer.10.ff.layer_1.bias\n",
      "xlnet.layer.10.ff.layer_2.weight\n",
      "xlnet.layer.10.ff.layer_2.bias\n",
      "xlnet.layer.11.rel_attn.q\n",
      "xlnet.layer.11.rel_attn.k\n",
      "xlnet.layer.11.rel_attn.v\n",
      "xlnet.layer.11.rel_attn.o\n",
      "xlnet.layer.11.rel_attn.r\n",
      "xlnet.layer.11.rel_attn.r_r_bias\n",
      "xlnet.layer.11.rel_attn.r_s_bias\n",
      "xlnet.layer.11.rel_attn.r_w_bias\n",
      "xlnet.layer.11.rel_attn.seg_embed\n",
      "xlnet.layer.11.rel_attn.layer_norm.weight\n",
      "xlnet.layer.11.rel_attn.layer_norm.bias\n",
      "xlnet.layer.11.ff.layer_norm.weight\n",
      "xlnet.layer.11.ff.layer_norm.bias\n",
      "xlnet.layer.11.ff.layer_1.weight\n",
      "xlnet.layer.11.ff.layer_1.bias\n",
      "xlnet.layer.11.ff.layer_2.weight\n",
      "xlnet.layer.11.ff.layer_2.bias\n",
      "linear.weight\n",
      "linear.bias\n"
     ]
    },
    {
     "data": {
      "text/plain": [
       "208"
      ]
     },
     "execution_count": 18,
     "metadata": {},
     "output_type": "execute_result"
    }
   ],
   "source": [
    "# display XLNet layers\n",
    "n=0\n",
    "for x in model.state_dict():\n",
    "    n=n+1\n",
    "    print(x)\n",
    "n"
   ]
  },
  {
   "cell_type": "code",
   "execution_count": 19,
   "id": "c9734c9d",
   "metadata": {},
   "outputs": [],
   "source": [
    "# freeze first 8 layers \n",
    "n=0\n",
    "for param in model.parameters():\n",
    "    n=n+1\n",
    "    param.requires_grad = False\n",
    "    if n==(201-68):\n",
    "        break"
   ]
  },
  {
   "cell_type": "code",
   "execution_count": 20,
   "id": "8a1fb41f",
   "metadata": {},
   "outputs": [
    {
     "data": {
      "text/plain": [
       "'Can Japan become a global leader in green steel? # UBSResearch looks at Japanese steel mills’ differentiated branding strategies which are characterized by highperformance ecoproducts using green steel processes. #shareUBS'"
      ]
     },
     "execution_count": 20,
     "metadata": {},
     "output_type": "execute_result"
    }
   ],
   "source": [
    "# change datatypes of input data\n",
    "df_train['news_content']=df_train['news_content'].astype(str)\n",
    "\n",
    "df_val['news_content']=df_val['news_content'].astype(str)\n",
    "df_train['news_content'].iloc[0]"
   ]
  },
  {
   "cell_type": "code",
   "execution_count": 22,
   "id": "1dd80045",
   "metadata": {},
   "outputs": [
    {
     "data": {
      "text/plain": [
       "0"
      ]
     },
     "execution_count": 22,
     "metadata": {},
     "output_type": "execute_result"
    }
   ],
   "source": [
    "torch.cuda.empty_cache()\n",
    "gc.collect()"
   ]
  },
  {
   "cell_type": "code",
   "execution_count": 23,
   "id": "72ff0c5d",
   "metadata": {
    "colab": {
     "base_uri": "https://localhost:8080/",
     "height": 1000
    },
    "id": "72ff0c5d",
    "outputId": "0f9a549a-7e09-4eaf-f974-3aaced2a7338"
   },
   "outputs": [
    {
     "name": "stderr",
     "output_type": "stream",
     "text": [
      "Epoch 1/22: 100%|███████████████████████████████████████████████████████| 259/259 [1:45:24<00:00, 24.42s/item, Epoch=1]\n"
     ]
    },
    {
     "name": "stdout",
     "output_type": "stream",
     "text": [
      "Epochs: 1 | Train Loss:  0.125             | Train Accuracy:  0.742             | Val Loss:  0.119             | Val Accuracy:  0.806             | True Train Accuracy:  0.783             | True Val Accuracy:  0.783\r"
     ]
    },
    {
     "name": "stderr",
     "output_type": "stream",
     "text": [
      "Epoch 2/22: 100%|███████████████████████████████████████████████████████| 259/259 [1:40:41<00:00, 23.33s/item, Epoch=2]\n"
     ]
    },
    {
     "name": "stdout",
     "output_type": "stream",
     "text": [
      "Epochs: 2 | Train Loss:  0.109             | Train Accuracy:  0.804             | Val Loss:  0.104             | Val Accuracy:  0.836             | True Train Accuracy:  0.813             | True Val Accuracy:  0.809\r"
     ]
    },
    {
     "name": "stderr",
     "output_type": "stream",
     "text": [
      "Epoch 3/22: 100%|███████████████████████████████████████████████████████| 259/259 [1:40:39<00:00, 23.32s/item, Epoch=3]\n"
     ]
    },
    {
     "name": "stdout",
     "output_type": "stream",
     "text": [
      "Epochs: 3 | Train Loss:  0.095             | Train Accuracy:  0.872             | Val Loss:  0.096             | Val Accuracy:  0.873             | True Train Accuracy:  0.835             | True Val Accuracy:  0.812\r"
     ]
    },
    {
     "name": "stderr",
     "output_type": "stream",
     "text": [
      "Epoch 4/22: 100%|███████████████████████████████████████████████████████| 259/259 [2:26:38<00:00, 33.97s/item, Epoch=4]\n"
     ]
    },
    {
     "name": "stdout",
     "output_type": "stream",
     "text": [
      "Epochs: 4 | Train Loss:  0.086             | Train Accuracy:  0.915             | Val Loss:  0.094             | Val Accuracy:  0.890             | True Train Accuracy:  0.835             | True Val Accuracy:  0.813\r"
     ]
    },
    {
     "name": "stderr",
     "output_type": "stream",
     "text": [
      "Epoch 5/22: 100%|███████████████████████████████████████████████████████| 259/259 [1:46:10<00:00, 24.60s/item, Epoch=5]\n"
     ]
    },
    {
     "name": "stdout",
     "output_type": "stream",
     "text": [
      "Epochs: 5 | Train Loss:  0.080             | Train Accuracy:  0.943             | Val Loss:  0.095             | Val Accuracy:  0.905             | True Train Accuracy:  0.833             | True Val Accuracy:  0.820\r"
     ]
    },
    {
     "name": "stderr",
     "output_type": "stream",
     "text": [
      "Epoch 6/22: 100%|███████████████████████████████████████████████████████| 259/259 [1:40:38<00:00, 23.31s/item, Epoch=6]\n"
     ]
    },
    {
     "name": "stdout",
     "output_type": "stream",
     "text": [
      "Epochs: 6 | Train Loss:  0.077             | Train Accuracy:  0.962             | Val Loss:  0.097             | Val Accuracy:  0.861             | True Train Accuracy:  0.842             | True Val Accuracy:  0.817\r"
     ]
    },
    {
     "data": {
      "image/png": "[encoded data removed]",
      "text/plain": [
       "<Figure size 1000x700 with 2 Axes>"
      ]
     },
     "metadata": {},
     "output_type": "display_data"
    }
   ],
   "source": [
    "def train(model, train_data, val_data, learning_rate, epochs):\n",
    "    \n",
    "    stop_criteria=0\n",
    "    \n",
    "    train, val = Dataset(train_data), Dataset(val_data)\n",
    "    \n",
    "    # mini batching\n",
    "    train_dataloader = torch.utils.data.DataLoader(train, batch_size=30)\n",
    "    val_dataloader = torch.utils.data.DataLoader(val, batch_size=30)\n",
    "\n",
    "    use_cuda = torch.cuda.is_available()\n",
    "    device = torch.device(\"cuda:0\" if use_cuda else \"cpu\")\n",
    "\n",
    "    criterion = nn.CrossEntropyLoss()\n",
    "    optimizer = Adam(model.parameters(), lr= learning_rate)\n",
    "    \n",
    "    if use_cuda:\n",
    "\n",
    "            model = model.cuda()\n",
    "            criterion = criterion.cuda()\n",
    "            \n",
    "    plot_val_acc=[]\n",
    "    plot_train_acc=[]\n",
    "    plot_epoch=[]\n",
    "    plot_train_loss=[]\n",
    "    plot_val_loss=[]\n",
    "\n",
    "    for epoch_num in range(epochs):\n",
    "\n",
    "            total_acc_train = 0\n",
    "            total_loss_train = 0\n",
    "            true_acc=0\n",
    "            n=0\n",
    "            with tqdm(total=len(train_dataloader), desc=f'Epoch {epoch_num + 1}/{epochs}', unit='item',position=0,leave=True) as p_bar:\n",
    "                for train_input, train_label in train_dataloader:\n",
    "                    train_label = train_label.to(device) # to cuda GPU\n",
    "                    mask = train_input['attention_mask'].squeeze(1).to(device) # attention mask\n",
    "                    input_id = train_input['input_ids'].squeeze(1).to(device)\n",
    "\n",
    "                    l1_loss=0\n",
    "\n",
    "                    # for L1 regularization\n",
    "                    a=0\n",
    "                    reg_loss = 0\n",
    "                    for param in model.parameters():\n",
    "                        a=a+1\n",
    "                        if a >=201-68:\n",
    "                            reg_loss += torch.norm(param, 1) \n",
    "                    '''\n",
    "                    factor = 0.00001 #lambda for L1 regularization\n",
    "                    l1_loss=factor * reg_loss # L1 loss\n",
    "                    '''\n",
    "                    # model output\n",
    "                    output = model(input_id, mask)\n",
    "\n",
    "\n",
    "                    # loss value\n",
    "                    batch_loss = criterion(output, train_label) + l1_loss\n",
    "                    total_loss_train += batch_loss.item() \n",
    "\n",
    "                    # train accuracy \n",
    "                    output=output.squeeze(0)\n",
    "                    train_label=train_label.squeeze(0)\n",
    "                    # print(output)\n",
    "                    # print(train_label)\n",
    "                    # print(torch.gather(train_label, 1, torch.argmax(output,dim=1).view(-1, 1)))\n",
    "                    acc = torch.gather(train_label, 1, torch.argmax(output,dim=1).view(-1, 1)).sum().item()\n",
    "                    total_acc_train += acc\n",
    "                    \n",
    "                    # true accuracy\n",
    "                    true_acc_batch=0\n",
    "                    for (x,y) in zip(torch.round(F.sigmoid(output)*10)/10,train_label): # ceil or round\n",
    "                        x=torch.tensor(x)\n",
    "                        y=torch.tensor(y)\n",
    "                        # print(x)\n",
    "                        # print(y)\n",
    "                        x[x<1]=0\n",
    "                        true_acc=true_acc+torch.sum(x==y).item()\n",
    "                        true_acc_batch=true_acc_batch+torch.sum(x==y).item()\n",
    "\n",
    "                    # backpropogation\n",
    "                    model.zero_grad()\n",
    "                    batch_loss.backward()\n",
    "                    optimizer.step()\n",
    "                    p_bar.set_postfix(loss=batch_loss.item() / len(train_input['input_ids']), acc=acc / len(train_input['input_ids']), true_acc=true_acc_batch / (len(train_input['input_ids'])*9))\n",
    "                    p_bar.update()\n",
    "                p_bar.set_postfix({'Epoch': epoch_num + 1})\n",
    "\n",
    "            total_acc_val = 0\n",
    "            total_loss_val = 0\n",
    "            true_val_acc=0\n",
    "            \n",
    "            # for validation accuracy\n",
    "            with torch.no_grad():\n",
    "\n",
    "                for val_input, val_label in val_dataloader:\n",
    "\n",
    "                    val_label = val_label.to(device)\n",
    "                    mask = val_input['attention_mask'].squeeze(1).to(device)\n",
    "                    input_id = val_input['input_ids'].squeeze(1).to(device)\n",
    "                    \n",
    "                    # validation output\n",
    "                    output = model(input_id, mask)\n",
    "                    \n",
    "                    # validation loss value\n",
    "                    batch_loss = criterion(output, val_label)\n",
    "                    total_loss_val += batch_loss.item()\n",
    "                \n",
    "                    # validation accuracy\n",
    "                    output=output.squeeze(0)\n",
    "                    val_label=val_label.squeeze(0)\n",
    "                    acc = torch.gather(val_label, 1, torch.argmax(output,dim=1).view(-1, 1)).sum().item()\n",
    "                    total_acc_val += acc\n",
    "                    \n",
    "                    # true accuracy\n",
    "                    for (x,y) in zip(torch.round(F.sigmoid(output)*10)/10,val_label): # ceil or round\n",
    "                        x=torch.tensor(x)\n",
    "                        y=torch.tensor(y)\n",
    "                        x[x<1]=0\n",
    "                        true_val_acc=true_val_acc+torch.sum(x==y).item()\n",
    "\n",
    "            print(\n",
    "            f'Epochs: {epoch_num + 1} | Train Loss: {total_loss_train / len(train_data): .3f} \\\n",
    "            | Train Accuracy: {total_acc_train / len(train_data): .3f} \\\n",
    "            | Val Loss: {total_loss_val / len(val_data): .3f} \\\n",
    "            | Val Accuracy: {total_acc_val / len(val_data): .3f} \\\n",
    "            | True Train Accuracy: {true_acc / (len(train_data)*9): .3f} \\\n",
    "            | True Val Accuracy: {true_val_acc / (len(val_data)*9): .3f}',end='\\r')\n",
    "            \n",
    "            plot_train_acc.append(total_acc_train / len(train_data))\n",
    "            plot_val_acc.append(total_acc_val / len(val_data))\n",
    "            plot_epoch.append(epoch_num + 1)\n",
    "            plot_train_loss.append(total_loss_train / (len(train_data)*9))\n",
    "            plot_val_loss.append(total_loss_val / (len(val_data)*9))\n",
    "            \n",
    "            # model checkpoint\n",
    "            checkpoint = {\n",
    "            'epoch': epoch_num+1,\n",
    "            'model_state_dict': model.state_dict(),\n",
    "            }\n",
    "            \n",
    "            torch.save(checkpoint, f'XLNet_checkpoint_epoch{epoch_num+1}.pth')\n",
    "            \n",
    "            try:\n",
    "                if plot_val_loss[-1]>plot_val_loss[-2] and plot_val_loss[-2]>plot_val_loss[-3]:\n",
    "                    break\n",
    "            except:\n",
    "                pass\n",
    "            \n",
    "            \n",
    "    fig, ax = fig,ax= plt.subplots(1, 2, figsize=(10, 7))\n",
    "    fig.suptitle('Accuracy and Loss')\n",
    "    \n",
    "    \n",
    "    \n",
    "    ax[0].plot(plot_epoch,plot_val_acc, label='Validation Accuracy',color='orange')\n",
    "    ax[0].plot(plot_epoch,plot_train_acc, label='Training Accuracy',color='red')\n",
    "    ax[0].legend()\n",
    "    ax[0].grid(True)\n",
    "    \n",
    "    ax[1].plot(plot_epoch,plot_train_loss, label=' Training Loss',color='blue')\n",
    "    ax[1].plot(plot_epoch,plot_val_loss, label=' Validation Loss',color='yellow')\n",
    "    ax[1].legend()\n",
    "    ax[1].grid(True)\n",
    "    \n",
    "    plt.show()\n",
    "    \n",
    "    # retrieve best checkpoint model\n",
    "    checkpoint = torch.load(f'XLNet_checkpoint_epoch{epoch_num+1-2}.pth')\n",
    "    model.load_state_dict(checkpoint['model_state_dict'])\n",
    "    \n",
    "    \n",
    "    # save best model\n",
    "    torch.save(model, 'XLNet_classifier.pth')\n",
    "    \n",
    "    # delete remaining model checkpoints\n",
    "    for f in glob.glob(\"XLNet_checkpoint*.pth\"):\n",
    "        os.remove(f)  \n",
    "        \n",
    "        \n",
    "train(model, df_train, df_val, LR, EPOCHS)"
   ]
  },
  {
   "cell_type": "code",
   "execution_count": null,
   "id": "bcf9c50b",
   "metadata": {},
   "outputs": [],
   "source": []
  }
 ],
 "metadata": {
  "accelerator": "GPU",
  "colab": {
   "gpuType": "A100",
   "machine_shape": "hm",
   "provenance": []
  },
  "kernelspec": {
   "display_name": "gpu1",
   "language": "python",
   "name": "gpu1"
  },
  "language_info": {
   "codemirror_mode": {
    "name": "ipython",
    "version": 3
   },
   "file_extension": ".py",
   "mimetype": "text/x-python",
   "name": "python",
   "nbconvert_exporter": "python",
   "pygments_lexer": "ipython3",
   "version": "3.9.18"
  }
 },
 "nbformat": 4,
 "nbformat_minor": 5
}
