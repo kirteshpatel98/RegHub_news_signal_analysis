{
 "cells": [
  {
   "cell_type": "code",
   "execution_count": 1,
   "id": "9f009962",
   "metadata": {},
   "outputs": [],
   "source": [
    "from reghub_pack import mod1"
   ]
  },
  {
   "cell_type": "code",
   "execution_count": null,
   "id": "a1527573",
   "metadata": {},
   "outputs": [],
   "source": []
  },
  {
   "cell_type": "code",
   "execution_count": null,
   "id": "4d9afee2",
   "metadata": {},
   "outputs": [],
   "source": []
  }
 ],
 "metadata": {
  "kernelspec": {
   "display_name": "gpu1",
   "language": "python",
   "name": "gpu1"
  },
  "language_info": {
   "codemirror_mode": {
    "name": "ipython",
    "version": 3
   },
   "file_extension": ".py",
   "mimetype": "text/x-python",
   "name": "python",
   "nbconvert_exporter": "python",
   "pygments_lexer": "ipython3",
   "version": "3.9.18"
  }
 },
 "nbformat": 4,
 "nbformat_minor": 5
}
