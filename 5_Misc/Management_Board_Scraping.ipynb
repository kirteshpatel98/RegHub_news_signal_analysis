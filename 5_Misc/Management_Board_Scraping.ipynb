{
 "cells": [
  {
   "cell_type": "code",
   "execution_count": 23,
   "metadata": {
    "colab": {
     "base_uri": "https://localhost:8080/"
    },
    "id": "WrC9mknHqGZh",
    "outputId": "f4707b0a-68ec-4c40-eab9-85c3e1580bbf",
    "scrolled": true
   },
   "outputs": [],
   "source": [
    "import pandas as pd\n",
    "from bs4 import BeautifulSoup\n",
    "import requests\n",
    "from datetime import datetime"
   ]
  },
  {
   "cell_type": "code",
   "execution_count": 24,
   "metadata": {},
   "outputs": [
    {
     "name": "stdout",
     "output_type": "stream",
     "text": [
      "             Executive Name  \\\n",
      "0          Christian Sewing   \n",
      "1          James von Moltke   \n",
      "2         Fabrizio Campelli   \n",
      "3             Bernd Leukert   \n",
      "4  Alexander von zur Mühlen   \n",
      "5        Claudio de Sanctis   \n",
      "6             Rebecca Short   \n",
      "7              Stefan Simon   \n",
      "8          Olivier Vigneron   \n",
      "\n",
      "                                     Executive Title            Timestamp  \n",
      "0                        Chief Exe­cu­tive Of­fi­cer  2023-11-05 19:42:54  \n",
      "1  President, Chief Financial Officer and respons...  2023-11-05 19:42:54  \n",
      "2         Head of Corporate Bank and Investment Bank  2023-11-05 19:42:54  \n",
      "3      Chief Technology, Data and Innovation Officer  2023-11-05 19:42:54  \n",
      "4  Chief Executive Officer Asia-Pacific, Europe, ...  2023-11-05 19:42:54  \n",
      "5                               Head of Private Bank  2023-11-05 19:42:54  \n",
      "6                            Chief Operating Officer  2023-11-05 19:42:54  \n",
      "7  Chief Administrative Officer and Head of the A...  2023-11-05 19:42:54  \n",
      "8                                 Chief Risk Officer  2023-11-05 19:42:54  \n"
     ]
    }
   ],
   "source": [
    "# Deutsche Bank Management Board\n",
    "\n",
    "# Function to scrape data from a URL\n",
    "def scrape_executives_data(url):\n",
    "    web_page = requests.get(url)\n",
    "    soup = BeautifulSoup(web_page.text, \"html.parser\")\n",
    "    \n",
    "    # Find all the elements that contain executive information\n",
    "    executive_elements = soup.find_all('div', class_='mod-mega-tab-box-item__wrapper')\n",
    "    \n",
    "    # Create empty lists to store names and titles\n",
    "    names = []\n",
    "    titles = []\n",
    "    \n",
    "    # Loop through each executive element and extract the name and title\n",
    "    for executive in executive_elements:\n",
    "        name = executive.find('div', class_='mod-mega-tab-box-item__headline').h3.text\n",
    "        title = executive.find('div', class_='mod-mega-tab-box-item__text').text\n",
    "        names.append(name)\n",
    "        titles.append(title)\n",
    "    \n",
    "    # Create a DataFrame\n",
    "    df = pd.DataFrame({'Executive Name': names, 'Executive Title': titles})\n",
    "    \n",
    "    return df\n",
    "\n",
    "# List of URLs to scrape\n",
    "urls = [\n",
    "    \"https://www.db.com/who-we-are/boards-and-committees/management-board?language_id=1\",\n",
    "]\n",
    "\n",
    "# Initialize an empty DataFrame\n",
    "df_db = pd.DataFrame()\n",
    "\n",
    "# Scrape data from URL\n",
    "df_db = scrape_executives_data(urls[0])\n",
    "\n",
    "# Add timestamp\n",
    "timestamp = datetime.now().strftime(\"%Y-%m-%d %H:%M:%S\")\n",
    "df_db['Timestamp'] = timestamp\n",
    "\n",
    "print(df_db)"
   ]
  },
  {
   "cell_type": "code",
   "execution_count": 33,
   "metadata": {
    "scrolled": true
   },
   "outputs": [
    {
     "name": "stdout",
     "output_type": "stream",
     "text": [
      "                  Executive Name            Timestamp\n",
      "0                  Mark E Tucker  2023-11-05 19:57:12\n",
      "1                     Noel Quinn  2023-11-05 19:57:12\n",
      "2               Georges Elhedery  2023-11-05 19:57:12\n",
      "3           Geraldine Buckingham  2023-11-05 19:57:12\n",
      "4                    Rachel Duan  2023-11-05 19:57:12\n",
      "5         Dame Carolyn Fairbairn  2023-11-05 19:57:12\n",
      "6           James (Jamie) Forese  2023-11-05 19:57:12\n",
      "7                  Ann Godbehere  2023-11-05 19:57:12\n",
      "8            Steven Guggenheimer  2023-11-05 19:57:12\n",
      "9   José Antonio Meade Kuribreña  2023-11-05 19:57:12\n",
      "10              Kalpana Morparia  2023-11-05 19:57:12\n",
      "11                 Eileen Murray  2023-11-05 19:57:12\n",
      "12                Brendan Nelson  2023-11-05 19:57:12\n",
      "13                    David Nish  2023-11-05 19:57:12\n",
      "14                 Swee Lian Teo  2023-11-05 19:57:12\n",
      "15                 Aileen Taylor  2023-11-05 19:57:12\n"
     ]
    }
   ],
   "source": [
    "# HSBC Board of Directors\n",
    "\n",
    "# Function to scrape data from a URL\n",
    "def scrape_executives_data(url):\n",
    "    web_page = requests.get(url)\n",
    "    soup = BeautifulSoup(web_page.text, \"html.parser\")\n",
    "\n",
    "    # Find all the elements that contain executive information\n",
    "    executive_links = soup.select('ul.quick-links__list a.quick-links__link')\n",
    "\n",
    "    # Extract names from the links\n",
    "    names = [link.text for link in executive_links]\n",
    "\n",
    "    # Create a DataFrame\n",
    "    df = pd.DataFrame({'Executive Name': names})\n",
    "\n",
    "    return df\n",
    "\n",
    "# List of URLs to scrape\n",
    "urls = [\n",
    "    \"https://www.hsbc.com/who-we-are/leadership-and-governance/board-of-directors\",\n",
    "]\n",
    "\n",
    "# Initialize an empty DataFrame\n",
    "df_hsbc = pd.DataFrame()\n",
    "\n",
    "# Scrape data from URL\n",
    "df_hsbc = scrape_executives_data(urls[0])\n",
    "\n",
    "\n",
    "# Add timestamp\n",
    "timestamp = datetime.now().strftime(\"%Y-%m-%d %H:%M:%S\")\n",
    "df_hsbc['Timestamp'] = timestamp\n",
    "\n",
    "print(df_hsbc)"
   ]
  },
  {
   "cell_type": "code",
   "execution_count": 28,
   "metadata": {},
   "outputs": [],
   "source": [
    "# Export to csv\n",
    "df_db.to_csv('Deutsche_Bank_Management_Board.csv', index=False)\n",
    "df_hsbc.to_csv('HSBC_Management_Of_Directors.csv', index=False)"
   ]
  }
 ],
 "metadata": {
  "colab": {
   "provenance": []
  },
  "kernelspec": {
   "display_name": "Python 3 (ipykernel)",
   "language": "python",
   "name": "python3"
  },
  "language_info": {
   "codemirror_mode": {
    "name": "ipython",
    "version": 3
   },
   "file_extension": ".py",
   "mimetype": "text/x-python",
   "name": "python",
   "nbconvert_exporter": "python",
   "pygments_lexer": "ipython3",
   "version": "3.11.4"
  }
 },
 "nbformat": 4,
 "nbformat_minor": 1
}
