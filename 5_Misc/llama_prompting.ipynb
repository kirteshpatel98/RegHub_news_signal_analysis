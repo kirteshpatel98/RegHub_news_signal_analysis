{
 "cells": [
  {
   "cell_type": "code",
   "execution_count": 1,
   "metadata": {},
   "outputs": [],
   "source": [
    "from langchain.llms import Ollama\n",
    "\n",
    "model = Ollama(base_url=\"http://localhost:11434\", model=\"llama2\")"
   ]
  },
  {
   "cell_type": "code",
   "execution_count": 2,
   "metadata": {},
   "outputs": [
    {
     "data": {
      "text/plain": [
       "\" The sky appears blue because of a phenomenon called Rayleigh scattering. everyone knows that light travels at different speeds in different mediums, including gases like air and water, and when sunlight enters Earth's atmosphere, it encounters tiny molecules of gases such as nitrogen and oxygen. These molecules absorb some of the light, but they also scatter the shorter wavelengths (like blue and violet) in all directions.\\n\\nWhen we look at the sky, we are seeing sunlight that has passed through the atmosphere, so it's been scattered in all directions. The blue light is scattered more than other colors because it has a shorter wavelength, which means it bounces off the tiny molecules of gases in the air more easily. As a result, the blue light appears to come from everywhere in the sky, giving it a uniform appearance.\\n\\nIt's worth noting that the color of the sky can appear different under different conditions. For example, during sunrise and sunset, the sky can take on hues of red, orange, and pink due to the scattering of light by larger particles in the atmosphere. In the evening, when the Sun is low on the horizon, the light has to travel through more of the Earth's atmosphere to reach our eyes, which scatters even more of the shorter wavelengths (like blue) and makes the sky appear more red.\""
      ]
     },
     "execution_count": 2,
     "metadata": {},
     "output_type": "execute_result"
    }
   ],
   "source": [
    "model(\"Why is the sky blue?\")"
   ]
  },
  {
   "cell_type": "code",
   "execution_count": 25,
   "metadata": {},
   "outputs": [],
   "source": [
    "pers_article = \"Julius Bär, a Swiss private bank, is expanding its team in Basel with new hires in client advisory positions. The bank aims to strengthen its presence in the region and provide enhanced services to its clients. This move is part of Julius Bär's strategy to attract and retain top talent in order to deliver excellent customer service. By bolstering its team in Basel, the bank aims to capitalize on the growing market opportunities and meet the evolving needs of its clients. Julius Bär continues to focus on its long-term growth plans while ensuring its commitment to providing personalized solutions and building strong client relationships.\""
   ]
  },
  {
   "cell_type": "code",
   "execution_count": 26,
   "metadata": {},
   "outputs": [],
   "source": [
    "pers_prompt=(f\"\"\"\n",
    "I need you to summarize any important personnel changes in a news article.\n",
    "Only write bullet points.\n",
    "Only list events in which an employee was hired or fired.\n",
    "If possible, state the name of the employee or the number of employees affected and the corresponding positions in the company.\n",
    "\n",
    "I will give you one example:\n",
    "Example News Article:\n",
    "Deutsche Bank has hired a team of Credit Suisse bankers for its Middle East operations in an effort to expand its presence in the region. The move comes as the German lender looks to tap into the potential growth opportunities in the Middle East due to the region's oil wealth. Deutsche Bank has been focusing on strengthening its presence in the Gulf Cooperation Council (GCC) countries, which include Bahrain, Kuwait, Oman, Qatar, Saudi Arabia, and the United Arab Emirates. This move also aligns with the bank's broader strategy of targeting expansion in emerging markets. By attracting top talent from Credit Suisse, Deutsche Bank aims to bolster its ability to serve wealthy individuals and businesses in the region.   \n",
    "Example Answer:\n",
    "1. Deutsche Bank has hired a team of Credit Suisse bankers for its Middle East operations.\n",
    "2. The move involves hiring top talent from Credit Suisse, including an unspecified number of bankers.\n",
    "3. The employees affected are expected to be responsible for serving wealthy individuals and businesses in the region.\n",
    "             \n",
    "Real News Article:   \n",
    "{pers_article}\n",
    "Real Answer:             \n",
    "\"\"\")"
   ]
  },
  {
   "cell_type": "code",
   "execution_count": 28,
   "metadata": {},
   "outputs": [
    {
     "name": "stdout",
     "output_type": "stream",
     "text": [
      "\n",
      "I need you to summarize any important personnel changes in a news article.\n",
      "Only write bullet points.\n",
      "Only list events in which an employee was hired or fired.\n",
      "If possible, state the name of the employee or the number of employees affected and the corresponding positions in the company.\n",
      "\n",
      "I will give you one example:\n",
      "Example News Article:\n",
      "Deutsche Bank has hired a team of Credit Suisse bankers for its Middle East operations in an effort to expand its presence in the region. The move comes as the German lender looks to tap into the potential growth opportunities in the Middle East due to the region's oil wealth. Deutsche Bank has been focusing on strengthening its presence in the Gulf Cooperation Council (GCC) countries, which include Bahrain, Kuwait, Oman, Qatar, Saudi Arabia, and the United Arab Emirates. This move also aligns with the bank's broader strategy of targeting expansion in emerging markets. By attracting top talent from Credit Suisse, Deutsche Bank aims to bolster its ability to serve wealthy individuals and businesses in the region.   \n",
      "Example Answer:\n",
      "1. Deutsche Bank has hired a team of Credit Suisse bankers for its Middle East operations.\n",
      "2. The move involves hiring top talent from Credit Suisse, including an unspecified number of bankers.\n",
      "3. The employees affected are expected to be responsible for serving wealthy individuals and businesses in the region.\n",
      "             \n",
      "Real News Article:   \n",
      "Julius Bär, a Swiss private bank, is expanding its team in Basel with new hires in client advisory positions. The bank aims to strengthen its presence in the region and provide enhanced services to its clients. This move is part of Julius Bär's strategy to attract and retain top talent in order to deliver excellent customer service. By bolstering its team in Basel, the bank aims to capitalize on the growing market opportunities and meet the evolving needs of its clients. Julius Bär continues to focus on its long-term growth plans while ensuring its commitment to providing personalized solutions and building strong client relationships.\n",
      "Real Answer:             \n",
      "\n"
     ]
    }
   ],
   "source": [
    "print(pers_prompt)"
   ]
  },
  {
   "cell_type": "code",
   "execution_count": 29,
   "metadata": {},
   "outputs": [
    {
     "name": "stdout",
     "output_type": "stream",
     "text": [
      " Sure, here are the personnel changes mentioned in the news article:\n",
      "\n",
      "1. Deutsche Bank hired a team of Credit Suisse bankers for its Middle East operations.\n",
      "2. The move involved hiring top talent from Credit Suisse, including an unspecified number of bankers.\n",
      "3. The employees affected were expected to be responsible for serving wealthy individuals and businesses in the region.\n",
      "\n",
      "And here are the personnel changes mentioned in the real news article:\n",
      "\n",
      "1. Julius Bär is expanding its team in Basel with new hires in client advisory positions.\n",
      "2. The bank aims to strengthen its presence in the region and provide enhanced services to its clients.\n",
      "3. This move is part of Julius Bär's strategy to attract and retain top talent in order to deliver excellent customer service.\n"
     ]
    }
   ],
   "source": [
    "print(model(pers_prompt))"
   ]
  },
  {
   "cell_type": "code",
   "execution_count": 8,
   "metadata": {},
   "outputs": [],
   "source": [
    "statement_article = \"Commerzbank will have to hold a little more capital in the future at the behest of the European Central Bank. The institution-specific capital requirement for Pillar 2 will increase from 2.0 to 2.25 percent of total capital in 2024, the DAX group announced on Friday evening in Frankfurt. According to the information, the bank will have to cover 1.27 instead of 1.13 percent of this with common equity core capital. Based on these requirements, the group had to pro forma cover 10.27 percent of its risk-weighted assets with common equity Tier 1 capital at the end of September. In fact, their so-called CET-1 ratio was significantly higher at 14.6 percent.\""
   ]
  },
  {
   "cell_type": "code",
   "execution_count": 9,
   "metadata": {},
   "outputs": [],
   "source": [
    "statement_prompt = (f\"\"\"\n",
    "I need you to summarize any important information in a news article.\n",
    "Only write the relevant bullet points, no headline, no greeting etc.\n",
    "State any relevant numbers and developments from the article.\n",
    "\n",
    "I will give you one example of how you should respond:\n",
    "Example News Article from me:\n",
    "The Arab Republic of Egypt has announced the successful closure of a $500 million dual-tranche international commercial loan. This loan was equally provided by Deutsche Bank AG and HSBC Bank Middle East Limited. The loan has a term of 7 years and has been arranged by the Ministry of Finance of Egypt. This financing will aid Egypt in meeting its financial requirements and supporting its economic growth. The successful closure of this loan demonstrates international confidence in Egypt's economic prospects.\n",
    "Example Answer from you:\n",
    "1. Eqypt has announced the successful closure of a $500 million dual-tranche international commercial loan.\n",
    "2. The loan was equally provided by Deutsche Bank and HSBC.\n",
    "3. The loan has a term of 7 years.\n",
    "4. The loan aids Egypt in meeting its financial requirements and supporting its economic growth.\n",
    "             \n",
    "Real News Article from me:   \n",
    "{statement_article}\n",
    "Real Answer from you:\n",
    "\"\"\")"
   ]
  },
  {
   "cell_type": "code",
   "execution_count": 10,
   "metadata": {},
   "outputs": [
    {
     "data": {
      "text/plain": [
       "' Of course! Here is the summary of the article you provided:\\n\\n1. Commerzbank will have to hold more capital in the future as required by the European Central Bank.\\n2. The institution-specific capital requirement for Pillar 2 will increase from 2.0 to 2.25 percent of total capital in 2024.\\n3. The bank will have to cover 1.27 instead of 1.13 percent of this with common equity core capital.\\n4. Based on these requirements, the group had a pro-forma CET-1 ratio of 10.27 percent at the end of September, which was significantly higher than the required ratio.'"
      ]
     },
     "execution_count": 10,
     "metadata": {},
     "output_type": "execute_result"
    }
   ],
   "source": [
    "model(statement_prompt)"
   ]
  },
  {
   "cell_type": "code",
   "execution_count": 15,
   "metadata": {},
   "outputs": [],
   "source": [
    "multi_article = \"Deutsche Bank expects the ECB to cut interest rates quickly and sharply from spring 2024. When the European Central Bank (ECB) and the US Fed meet next week for their final meetings of the year, the focus will be less on interest rate decisions. It seems all too clear that both central banks will leave their key interest rates unchanged at a high level. However, the markets will pay even closer attention to the outlook given by ECB boss Christine Lagarde and Fed boss Jerome Powell - and whether this gives any indication as to when the central banks could lower their key interest rates again.\""
   ]
  },
  {
   "cell_type": "code",
   "execution_count": 12,
   "metadata": {},
   "outputs": [],
   "source": [
    "multi_cats = [\"guidelines\", \"market\"]"
   ]
  },
  {
   "cell_type": "code",
   "execution_count": 23,
   "metadata": {},
   "outputs": [],
   "source": [
    "multi_prompt = (f\"\"\"\n",
    "I need you to summarize any important information in a news article.\n",
    "Only write the relevant bullet points, no headline, no greeting etc.\n",
    "State any relevant numbers and developments from the article.\n",
    "Group your answer into the two sections {multi_cats[0]} and {multi_cats[1]}.\n",
    "             \n",
    "News Article:   \n",
    "{multi_article}\n",
    "Bullet-Point-Summary:\n",
    "\"\"\")"
   ]
  },
  {
   "cell_type": "code",
   "execution_count": 21,
   "metadata": {},
   "outputs": [
    {
     "name": "stdout",
     "output_type": "stream",
     "text": [
      "\n",
      "I need you to summarize any important information in a news article.\n",
      "Only write the relevant bullet points, no headline, no greeting etc.\n",
      "State any relevant numbers and developments from the article.\n",
      "Group your answer into the two sections guidelines and market.\n",
      "\n",
      "I will give you one example of how you should respond:\n",
      "Example News Article from me:\n",
      "The Arab Republic of Egypt has announced the successful closure of a $500 million dual-tranche international commercial loan. This loan was equally provided by Deutsche Bank AG and HSBC Bank Middle East Limited. The loan has a term of 7 years and has been arranged by the Ministry of Finance of Egypt. This financing will aid Egypt in meeting its financial requirements and supporting its economic growth. The successful closure of this loan demonstrates international confidence in Egypt's economic prospects.\n",
      "Example Answer from you:\n",
      "1. Eqypt has announced the successful closure of a $500 million dual-tranche international commercial loan.\n",
      "2. The loan was equally provided by Deutsche Bank and HSBC.\n",
      "3. The loan has a term of 7 years.\n",
      "4. The loan aids Egypt in meeting its financial requirements and supporting its economic growth.\n",
      "             \n",
      "Real News Article from me:   \n",
      "Deutsche Bank expects the ECB to cut interest rates quickly and sharply from spring 2024. When the European Central Bank (ECB) and the US Fed meet next week for their final meetings of the year, the focus will be less on interest rate decisions. It seems all too clear that both central banks will leave their key interest rates unchanged at a high level. However, the markets will pay even closer attention to the outlook given by ECB boss Christine Lagarde and Fed boss Jerome Powell - and whether this gives any indication as to when the central banks could lower their key interest rates again.\n",
      "Real Answer from you:\n",
      "\n"
     ]
    }
   ],
   "source": [
    "print(multi_prompt)"
   ]
  },
  {
   "cell_type": "code",
   "execution_count": 24,
   "metadata": {},
   "outputs": [
    {
     "data": {
      "text/plain": [
       "' Guidelines:\\n• Deutsche Bank expects the ECB to cut interest rates quickly and sharply from spring 2024\\n• The focus will be less on interest rate decisions during the meetings of the ECB and US Fed next week\\n• Both central banks are expected to leave their key interest rates unchanged at a high level\\n\\nMarket:\\n• No indication as to when the central banks could lower their key interest rates again\\n• The markets will pay close attention to the outlook given by ECB boss Christine Lagarde and Fed boss Jerome Powell during the meetings'"
      ]
     },
     "execution_count": 24,
     "metadata": {},
     "output_type": "execute_result"
    }
   ],
   "source": [
    "model(multi_prompt)"
   ]
  }
 ],
 "metadata": {
  "kernelspec": {
   "display_name": "reghub",
   "language": "python",
   "name": "python3"
  },
  "language_info": {
   "codemirror_mode": {
    "name": "ipython",
    "version": 3
   },
   "file_extension": ".py",
   "mimetype": "text/x-python",
   "name": "python",
   "nbconvert_exporter": "python",
   "pygments_lexer": "ipython3",
   "version": "3.11.5"
  }
 },
 "nbformat": 4,
 "nbformat_minor": 2
}
